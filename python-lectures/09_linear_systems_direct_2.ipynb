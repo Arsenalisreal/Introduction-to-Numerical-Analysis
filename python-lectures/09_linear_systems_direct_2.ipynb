{
 "cells": [
  {
   "cell_type": "markdown",
   "metadata": {},
   "source": [
    "# Play with LU and Cholesky\n",
    "\n",
    "The pourpose of this exercise is a better understanding of **LU** and **Cholesky** decompositions through several simple examples.\n"
   ]
  },
  {
   "cell_type": "markdown",
   "metadata": {},
   "source": [
    "Let us consider the linear system $A\\mathbf{x} = \\mathbf{b}$ where\n",
    "$$\n",
    "  A = \\left(\n",
    "  \\begin{array}{ccc}\n",
    "  \\epsilon & 1 & 2\\\\\n",
    "  1 & 3 & 1 \\\\\n",
    "  2 & 1 & 3 \\\\\n",
    "  \\end{array}\n",
    "  \\right).\n",
    "$$\n",
    "\n",
    "1. Find the range of values of $\\epsilon \\in \\mathbb{R}$ such that the matrix $A$ is symmetric and positive definite.\n",
    "\\textbf{Suggestion:} use the *Sylvester's criterion* which states that  a symmetric matrix $A \\in \\mathbb{R}^{n \\times n}$ is positive definite if and only if all the main minors (The main minors of $A \\in \\mathbb{R}^{n \\times n}$ are the determinants of the submatrices $A_p = (a_{i,j})_{1 \\leq i, j \\leq p}$, $p = 1, ..., n$). of $A$ are positive.\n",
    "2. What factorization is more suitable for solving the linear system $A\\mathbf{x}=\\mathbf{b}$ for the case $\\epsilon=0$? Motivate the answer.\n",
    "3. Compute the Cholesky factorization $A = R^T R$ for the case $\\epsilon = 2$.\n",
    "4. Given $\\mathbf{b} = (1,1,1)^T$, solve the linear system by using the Cholesky factorization computed at the previous point.\n",
    "\n"
   ]
  },
  {
   "cell_type": "code",
   "execution_count": null,
   "metadata": {
    "collapsed": false
   },
   "outputs": [],
   "source": [
    "%matplotlib inline\n",
    "import numpy as np\n",
    "\n",
    "import sympy as sym\n",
    "from sympy.matrices import *\n",
    "\n",
    "import scipy.linalg\n",
    "\n",
    "e = sym.symbols('e')\n",
    "\n",
    "a = Matrix(([e ,1, 2], [1, 3, 1],[2, 1, 3]))\n",
    "\n"
   ]
  },
  {
   "cell_type": "code",
   "execution_count": null,
   "metadata": {
    "collapsed": false
   },
   "outputs": [],
   "source": [
    "\n",
    "\n"
   ]
  },
  {
   "cell_type": "code",
   "execution_count": null,
   "metadata": {
    "collapsed": false
   },
   "outputs": [],
   "source": [
    "\n"
   ]
  },
  {
   "cell_type": "code",
   "execution_count": null,
   "metadata": {
    "collapsed": false
   },
   "outputs": [],
   "source": []
  },
  {
   "cell_type": "code",
   "execution_count": null,
   "metadata": {
    "collapsed": false
   },
   "outputs": [],
   "source": []
  },
  {
   "cell_type": "code",
   "execution_count": null,
   "metadata": {
    "collapsed": false
   },
   "outputs": [],
   "source": []
  },
  {
   "cell_type": "code",
   "execution_count": null,
   "metadata": {
    "collapsed": true
   },
   "outputs": [],
   "source": []
  },
  {
   "cell_type": "code",
   "execution_count": null,
   "metadata": {
    "collapsed": false
   },
   "outputs": [],
   "source": [
    "\n"
   ]
  },
  {
   "cell_type": "markdown",
   "metadata": {},
   "source": [
    "Let us consider the following matrix $A \\in \\mathbb R^{3 \\times 3}$ depending on the parameter $\\epsilon \\in \\mathbb R$:\n",
    "$$\n",
    "A = \\left[\n",
    "\\begin{array}{ccc}\n",
    "1 & \\epsilon & -1 \\\\\n",
    "\\epsilon & \\frac{35}3 & 1 \\\\\n",
    "-1 & \\epsilon & 2 \\\\\n",
    "\\end{array}\n",
    "\\right].\n",
    "$$\n",
    "\n",
    "\n",
    "\n",
    "1. Calculate the values of the parameter $\\epsilon \\in \\mathbb R$ for which the matrix $A$ is invertible (non singular).\n",
    "\n",
    "2. Calculate the Gauss factorization $LU$ of the matrix $A$ (when non singular) for a generic value of the parameter $\\epsilon \\in \\mathbb R$.\n",
    "\n",
    "3. Calculate the values of the parameter $\\epsilon \\in \\mathbb R$ for which the Gauss factorization $LU$ of the matrix $A$  (when non singular) exists and is unique.\n",
    "\n",
    "4. Set $\\epsilon = \\sqrt{\\frac{35}3}$ and use the pivoting technique to calculate the Gauss factorization $LU$ of the matrix $A$.\n",
    "\n",
    "5. For $\\epsilon=1$, the matrix $A$ is symmetric and positive definite. Calculate the corresponding Cholesky factorization of the matrix $A$, i.e. the upper triangular matrix with positive elements on the diagonal, say $R$, for which $A = R^T R$."
   ]
  },
  {
   "cell_type": "code",
   "execution_count": null,
   "metadata": {
    "collapsed": false
   },
   "outputs": [],
   "source": [
    "\n",
    "a = Matrix(([1. ,e, -1.], [e, 35./3, 1.],[-1., e, 2.]))\n",
    "\n",
    "\n"
   ]
  },
  {
   "cell_type": "code",
   "execution_count": null,
   "metadata": {
    "collapsed": false
   },
   "outputs": [],
   "source": []
  },
  {
   "cell_type": "code",
   "execution_count": null,
   "metadata": {
    "collapsed": false
   },
   "outputs": [],
   "source": []
  },
  {
   "cell_type": "code",
   "execution_count": null,
   "metadata": {
    "collapsed": false
   },
   "outputs": [],
   "source": []
  },
  {
   "cell_type": "code",
   "execution_count": null,
   "metadata": {
    "collapsed": false
   },
   "outputs": [],
   "source": []
  },
  {
   "cell_type": "code",
   "execution_count": null,
   "metadata": {
    "collapsed": false
   },
   "outputs": [],
   "source": []
  },
  {
   "cell_type": "code",
   "execution_count": null,
   "metadata": {
    "collapsed": false
   },
   "outputs": [],
   "source": []
  },
  {
   "cell_type": "raw",
   "metadata": {},
   "source": []
  }
 ],
 "metadata": {
  "anaconda-cloud": {},
  "kernelspec": {
   "display_name": "Python 2",
   "language": "python",
   "name": "python2"
  },
  "language_info": {
   "codemirror_mode": {
    "name": "ipython",
    "version": 2
   },
   "file_extension": ".py",
   "mimetype": "text/x-python",
   "name": "python",
   "nbconvert_exporter": "python",
   "pygments_lexer": "ipython2",
   "version": "2.7.10"
  }
 },
 "nbformat": 4,
 "nbformat_minor": 1
}
