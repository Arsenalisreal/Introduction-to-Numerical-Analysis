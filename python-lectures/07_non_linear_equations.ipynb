{
 "cells": [
  {
   "cell_type": "markdown",
   "metadata": {
    "ein.tags": [
     "worksheet-0"
    ],
    "slideshow": {
     "slide_type": "-"
    }
   },
   "source": [
    "# Nonlinear Equations\n",
    "\n",
    "We want to find a root of the nonlinear function $f$ using different methods.\n",
    "\n",
    "1. Bisection method\n",
    "2. Newton method\n",
    "3. Chord method\n",
    "4. Secant method\n",
    "5. Fixed point iterations\n",
    "\n",
    "\n",
    "\n"
   ]
  },
  {
   "cell_type": "code",
   "execution_count": 1,
   "metadata": {
    "collapsed": true
   },
   "outputs": [],
   "source": [
    "%matplotlib inline\n",
    "from numpy import *\n",
    "from matplotlib.pyplot import *\n",
    "import sympy as sym\n"
   ]
  },
  {
   "cell_type": "code",
   "execution_count": 51,
   "metadata": {
    "autoscroll": "json-false",
    "collapsed": false,
    "ein.tags": [
     "worksheet-0"
    ],
    "slideshow": {
     "slide_type": "-"
    }
   },
   "outputs": [
    {
     "data": {
      "image/png": "[encoded data removed]",
      "text/plain": [
       "<matplotlib.figure.Figure at 0x107ccf8d0>"
      ]
     },
     "metadata": {},
     "output_type": "display_data"
    }
   ],
   "source": [
    "t = sym.symbols('t')\n",
    "\n",
    "f_sym = t/8. * (63.*t**4 - 70.*t**2. +15.) # Legendre polynomial of order 5\n",
    "\n",
    "f_prime_sym = sym.diff(f_sym,t)\n",
    "\n",
    "f = sym.lambdify(t, f_sym, 'numpy')\n",
    "f_prime = sym.lambdify(t,f_prime_sym, 'numpy')\n",
    "\n",
    "phi = lambda x : 63./70.*x**3 + 15./(70.*x)\n",
    "#phi = lambda x : 70.0/15.0*x**3 - 63.0/15.0*x**5\n",
    "#phi = lambda x : sqrt((63.*x**4 + 15.0)/70.)\n",
    "\n",
    "# Let's plot\n",
    "n = 1025\n",
    "\n",
    "x = linspace(-1,1,n)\n",
    "c = zeros_like(x)\n",
    "\n",
    "_ = plot(x,f(x))\n",
    "_ = plot(x,c)\n",
    "_ = grid()\n"
   ]
  },
  {
   "cell_type": "code",
   "execution_count": 52,
   "metadata": {
    "collapsed": true
   },
   "outputs": [],
   "source": [
    "# Initial data for the variuos algorithms\n",
    "\n",
    "# interval in which we seek the solution \n",
    "a = -0.1\n",
    "b = 0.7\n",
    "\n",
    "# initial points\n",
    "x0 = (a+b)/2.0\n",
    "x00 = b\n"
   ]
  },
  {
   "cell_type": "code",
   "execution_count": 53,
   "metadata": {
    "collapsed": true
   },
   "outputs": [],
   "source": [
    "# stopping criteria\n",
    "eps = 1e-10\n",
    "n_max = 1000"
   ]
  },
  {
   "cell_type": "markdown",
   "metadata": {},
   "source": [
    "## Bisection method\n",
    "\n",
    "$$\n",
    "x^k = \\frac{a^k+b^k}{2}\n",
    "$$\n",
    "```\n",
    "                   if (f(a_k) * f(x_k)) < 0:\n",
    "                      b_k1 = x\n",
    "                      a_k1 = a_k\n",
    "                   else:\n",
    "                      a_k1 = x\n",
    "                      b_k1 = b_k\n",
    "```"
   ]
  },
  {
   "cell_type": "code",
   "execution_count": 15,
   "metadata": {
    "collapsed": false
   },
   "outputs": [
    {
     "name": "stdout",
     "output_type": "stream",
     "text": [
      "30\n",
      "-4.65661287308e-11\n",
      "8.73114913702e-11\n"
     ]
    },
    {
     "data": {
      "image/png": "[encoded data removed]",
      "text/plain": [
       "<matplotlib.figure.Figure at 0x107a46b90>"
      ]
     },
     "metadata": {},
     "output_type": "display_data"
    }
   ],
   "source": [
    "def bisect(f,a,b,eps,n_max):\n",
    "    a_new = a\n",
    "    b_new = b\n",
    "    x = mean([a,b])\n",
    "    err = eps + 1.\n",
    "    errors = [err]\n",
    "    it = 0\n",
    "    while (err > eps and it < n_max):\n",
    "        if ( f(a_new)*f(x) < 0):\n",
    "            b_new = x\n",
    "        else:\n",
    "            a_new = x\n",
    "            \n",
    "        x_new = mean([a_new,b_new])\n",
    "        \n",
    "        err = abs(f(x_new))\n",
    "        errors.append(err)\n",
    "        x = x_new\n",
    "        it +=1\n",
    "    semilogy(errors)\n",
    "    print it\n",
    "    print x\n",
    "    print err\n",
    "    return errors\n",
    "    \n",
    "error_bisect = bisect(f,a,b,eps,n_max)"
   ]
  },
  {
   "cell_type": "code",
   "execution_count": null,
   "metadata": {
    "collapsed": true
   },
   "outputs": [],
   "source": [
    "# is the number of iterations coherent with the theoretical estimation?"
   ]
  },
  {
   "cell_type": "markdown",
   "metadata": {},
   "source": [
    "In order to find out other methods for solving non-linear equations, let's compute the Taylor's series of $f(x^k)$ up to the first order \n",
    "\n",
    "$$\n",
    "f(x^k) \\simeq f(x^k) + (x-x^k)f^{\\prime}(x^k)\n",
    "$$\n",
    "which suggests the following iterative scheme\n",
    "$$\n",
    "x^{k+1} = x^k - \\frac{f(x^k)}{f^{\\prime}(x^k)}\n",
    "$$\n",
    "\n",
    "The following methods are obtained applying the above scheme where\n",
    "\n",
    "$$\n",
    "f^{\\prime}(x^k) \\approx q^k\n",
    "$$"
   ]
  },
  {
   "cell_type": "markdown",
   "metadata": {},
   "source": [
    "## Newton's method\n",
    "$$\n",
    "q^k = f^{\\prime}(x^k)\n",
    "$$\n",
    "\n",
    "$$\n",
    "x^{k+1} = x^k - \\frac{f(x^k)}{q^k}\n",
    "$$"
   ]
  },
  {
   "cell_type": "code",
   "execution_count": 62,
   "metadata": {
    "collapsed": false
   },
   "outputs": [
    {
     "name": "stdout",
     "output_type": "stream",
     "text": [
      "0.906179845939\n",
      "2.70894418009e-14\n",
      "12\n"
     ]
    },
    {
     "data": {
      "image/png": "[encoded data removed]",
      "text/plain": [
       "<matplotlib.figure.Figure at 0x108358250>"
      ]
     },
     "metadata": {},
     "output_type": "display_data"
    }
   ],
   "source": [
    "def newton(f,f_prime,x0,eps,n_max):\n",
    "    err = eps + 1\n",
    "    errors = [err]\n",
    "    it = 0\n",
    "    x = x0\n",
    "    while ( err > eps and it < n_max):\n",
    "        qk = f_prime(x)\n",
    "        x_new = x - f(x)/qk\n",
    "        err = abs(x_new -x)\n",
    "        x = x_new\n",
    "        errors.append(err)\n",
    "        it += 1\n",
    "    \n",
    "    print x\n",
    "    print err\n",
    "    print it\n",
    "    semilogy(errors)\n",
    "    return errors\n",
    "\n",
    "error_newton = newton(f,f_prime,x0,eps,n_max)\n",
    "        "
   ]
  },
  {
   "cell_type": "markdown",
   "metadata": {},
   "source": [
    "## Chord method\n",
    "\n",
    "$$\n",
    "q^k \\equiv q = \\frac{f(b)-f(a)}{b-a}\n",
    "$$\n",
    "\n",
    "$$\n",
    "x^{k+1} = x^k - \\frac{f(x^k)}{q}\n",
    "$$"
   ]
  },
  {
   "cell_type": "code",
   "execution_count": 66,
   "metadata": {
    "autoscroll": "json-false",
    "collapsed": false,
    "ein.tags": [
     "worksheet-0"
    ],
    "slideshow": {
     "slide_type": "-"
    }
   },
   "outputs": [
    {
     "name": "stdout",
     "output_type": "stream",
     "text": [
      "nan\n",
      "nan\n",
      "6\n"
     ]
    },
    {
     "data": {
      "image/png": "[encoded data removed]",
      "text/plain": [
       "<matplotlib.figure.Figure at 0x107c7b910>"
      ]
     },
     "metadata": {},
     "output_type": "display_data"
    }
   ],
   "source": [
    "def chord(f,a,b,x0,eps,n_max):\n",
    "    q = (f(b) - f(a))/(b - a)\n",
    "    err = eps + 1\n",
    "    errors = [err]\n",
    "    it = 0\n",
    "    x = x0\n",
    "    while ( err > eps and it < n_max):\n",
    "        x_new = x - f(x)/q\n",
    "        err = abs(x_new -x)\n",
    "        x = x_new\n",
    "        errors.append(err)\n",
    "        it += 1\n",
    "    \n",
    "    print x\n",
    "    print err\n",
    "    print it\n",
    "    semilogy(errors)\n",
    "    return errors\n",
    "\n",
    "error_chord = chord(f,a,b,x0,eps,n_max)   "
   ]
  },
  {
   "cell_type": "markdown",
   "metadata": {},
   "source": [
    "## Secant method\n",
    "\n",
    "$$\n",
    "q^k = \\frac{f(x^k)-f(x^{k-1})}{x^k - x^{k-1}}\n",
    "$$\n",
    "\n",
    "$$\n",
    "x^{k+1} = x^k - \\frac{f(x^k)}{q^k}\n",
    "$$\n",
    "\n",
    "Note that this algorithm requirs **two** initial points"
   ]
  },
  {
   "cell_type": "code",
   "execution_count": 35,
   "metadata": {
    "collapsed": false
   },
   "outputs": [
    {
     "name": "stdout",
     "output_type": "stream",
     "text": [
      "-7.96445941412e-20\n",
      "9.04783798729e-11\n",
      "4\n"
     ]
    },
    {
     "data": {
      "image/png": "[encoded data removed]",
      "text/plain": [
       "<matplotlib.figure.Figure at 0x106fb29d0>"
      ]
     },
     "metadata": {},
     "output_type": "display_data"
    }
   ],
   "source": [
    "def secant(f,x0,x00,eps,n_max):\n",
    "    err = eps + 1\n",
    "    errors = [err]\n",
    "    it = 0\n",
    "    xk = x0\n",
    "    xkk = x00\n",
    "    while ( err > eps and it < n_max):\n",
    "        qk = (f(xk) - f(xkk))/(xk - xkk)\n",
    "        x_new = xk - f(xk)/qk\n",
    "        err = abs(x_new -xk)\n",
    "        xkk = xk\n",
    "        xk = x_new\n",
    "        errors.append(err)\n",
    "        it += 1\n",
    "    \n",
    "    print xk\n",
    "    print err\n",
    "    print it\n",
    "    semilogy(errors)\n",
    "    return errors\n",
    "\n",
    "error_secant = secant(f,x0,x00,eps,n_max)"
   ]
  },
  {
   "cell_type": "markdown",
   "metadata": {},
   "source": [
    "## Fixed point iterations\n",
    "\n",
    "$$\n",
    "f(x)=0 \\to x-\\phi(x)=0\n",
    "$$\n",
    "\n",
    "$$\n",
    "x^{k+1} = \\phi(x^k)\n",
    "$$"
   ]
  },
  {
   "cell_type": "code",
   "execution_count": 58,
   "metadata": {
    "collapsed": false
   },
   "outputs": [
    {
     "name": "stdout",
     "output_type": "stream",
     "text": [
      "0.538469310108\n",
      "6.03431749013e-11\n",
      "11\n",
      "-5.62059372352e-12\n"
     ]
    },
    {
     "data": {
      "image/png": "[encoded data removed]",
      "text/plain": [
       "<matplotlib.figure.Figure at 0x107b203d0>"
      ]
     },
     "metadata": {},
     "output_type": "display_data"
    }
   ],
   "source": [
    "def fixed_point(phi,x0,eps,n_max):\n",
    "    err = eps + 1\n",
    "    errors = [err]\n",
    "    it = 0\n",
    "    x_old = x0\n",
    "    while ( err > eps and it < n_max):\n",
    "        x_new = phi(x_old)\n",
    "        err = abs(x_new -x_old)\n",
    "        errors.append(err)\n",
    "        x_old = x_new\n",
    "        it += 1\n",
    "        \n",
    "    print x_new\n",
    "    print err\n",
    "    print it\n",
    "    semilogy(errors)\n",
    "    return errors\n",
    "    \n",
    "error_fixedpoint = fixed_point(phi,x0,eps,n_max)\n",
    "print f(0.538469310108)"
   ]
  },
  {
   "cell_type": "code",
   "execution_count": 65,
   "metadata": {
    "collapsed": false
   },
   "outputs": [
    {
     "ename": "NameError",
     "evalue": "name 'error_chord' is not defined",
     "output_type": "error",
     "traceback": [
      "\u001b[0;31m---------------------------------------------------------------------------\u001b[0m",
      "\u001b[0;31mNameError\u001b[0m                                 Traceback (most recent call last)",
      "\u001b[0;32m<ipython-input-65-016c68cec18f>\u001b[0m in \u001b[0;36m<module>\u001b[0;34m()\u001b[0m\n\u001b[1;32m      2\u001b[0m \u001b[0msemilogy\u001b[0m\u001b[0;34m(\u001b[0m\u001b[0merror_bisect\u001b[0m\u001b[0;34m,\u001b[0m\u001b[0mlabel\u001b[0m\u001b[0;34m=\u001b[0m\u001b[0;34m\"bisec\"\u001b[0m\u001b[0;34m)\u001b[0m\u001b[0;34m\u001b[0m\u001b[0m\n\u001b[1;32m      3\u001b[0m \u001b[0msemilogy\u001b[0m\u001b[0;34m(\u001b[0m\u001b[0merror_newton\u001b[0m\u001b[0;34m,\u001b[0m\u001b[0mlabel\u001b[0m\u001b[0;34m=\u001b[0m\u001b[0;34m\"newton\"\u001b[0m\u001b[0;34m)\u001b[0m\u001b[0;34m\u001b[0m\u001b[0m\n\u001b[0;32m----> 4\u001b[0;31m \u001b[0msemilogy\u001b[0m\u001b[0;34m(\u001b[0m\u001b[0merror_chord\u001b[0m\u001b[0;34m,\u001b[0m\u001b[0mlabel\u001b[0m\u001b[0;34m=\u001b[0m\u001b[0;34m\"chord\"\u001b[0m\u001b[0;34m)\u001b[0m\u001b[0;34m\u001b[0m\u001b[0m\n\u001b[0m\u001b[1;32m      5\u001b[0m \u001b[0msemilogy\u001b[0m\u001b[0;34m(\u001b[0m\u001b[0merror_secant\u001b[0m\u001b[0;34m,\u001b[0m\u001b[0mlabel\u001b[0m\u001b[0;34m=\u001b[0m\u001b[0;34m\"secant\"\u001b[0m\u001b[0;34m)\u001b[0m\u001b[0;34m\u001b[0m\u001b[0m\n",
      "\u001b[0;31mNameError\u001b[0m: name 'error_chord' is not defined"
     ]
    },
    {
     "data": {
      "image/png": "[encoded data removed]",
      "text/plain": [
       "<matplotlib.figure.Figure at 0x107ce9d50>"
      ]
     },
     "metadata": {},
     "output_type": "display_data"
    }
   ],
   "source": [
    "semilogy(error_fixedpoint,label=\"fixed\")\n",
    "semilogy(error_bisect,label=\"bisec\")\n",
    "semilogy(error_newton,label=\"newton\")\n",
    "semilogy(error_chord,label=\"chord\")\n",
    "semilogy(error_secant,label=\"secant\")"
   ]
  },
  {
   "cell_type": "code",
   "execution_count": null,
   "metadata": {
    "collapsed": false
   },
   "outputs": [],
   "source": [
    "# plot the error convergence for the methods"
   ]
  },
  {
   "cell_type": "code",
   "execution_count": null,
   "metadata": {
    "collapsed": false
   },
   "outputs": [],
   "source": [
    "# Let's compare the scipy implmentation of Newton's method with our.."
   ]
  },
  {
   "cell_type": "code",
   "execution_count": null,
   "metadata": {
    "collapsed": true
   },
   "outputs": [],
   "source": []
  }
 ],
 "metadata": {
  "anaconda-cloud": {},
  "kernelspec": {
   "display_name": "Python 2",
   "language": "python",
   "name": "python2"
  },
  "language_info": {
   "codemirror_mode": {
    "name": "ipython",
    "version": 2
   },
   "file_extension": ".py",
   "mimetype": "text/x-python",
   "name": "python",
   "nbconvert_exporter": "python",
   "pygments_lexer": "ipython2",
   "version": "2.7.11"
  },
  "name": "07_non_linear_equations.ipynb"
 },
 "nbformat": 4,
 "nbformat_minor": 1
}
