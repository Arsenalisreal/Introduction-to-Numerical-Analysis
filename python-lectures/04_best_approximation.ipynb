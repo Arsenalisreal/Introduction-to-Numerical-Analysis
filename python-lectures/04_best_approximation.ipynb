{
 "cells": [
  {
   "cell_type": "code",
   "execution_count": 1,
   "metadata": {
    "collapsed": true
   },
   "outputs": [],
   "source": [
    "%matplotlib inline\n",
    "import sympy as sym\n",
    "import pylab as pl\n",
    "import numpy as np\n",
    "import numpy.polynomial.polynomial as n_poly\n",
    "import numpy.polynomial.legendre as leg"
   ]
  },
  {
   "cell_type": "markdown",
   "metadata": {},
   "source": [
    "# Mindflow\n",
    "\n",
    "We want the best approximation (in Hilbert Spaces) of the function $f$, on the space $V = \\mathrm{span}\\{v_i\\}$. Remember that $p\\in V$ is best approximation of $f$ if and only if:\n",
    "\n",
    "$$\n",
    "(p-f,q)=0, \\quad \\forall q\\in V.\n",
    "$$\n",
    "\n",
    "Focus one second on the fact that both $p$ and $q$ belong to $V$. We know that any $q$ can be expressed as a linear combination of the basis functions $v_i$:\n",
    "\n",
    "$$\n",
    "(p-f,v_i)=0, \\quad \\forall v_i\\in V.\n",
    "$$\n",
    "\n",
    "Moreover $p$ is uniquely defined by the coefficients $p^j$ such that $p = p^j\\,v_j$. Collecting this information together we get:\n",
    "\n",
    "$$\n",
    "(v_j,v_i) p^j = (f,v_i),\\quad \\forall v_i\\in V.\n",
    "$$\n",
    "\n",
    "Now that we know our goal (finding these $p^j$ coefficients) we do what the rangers do: we explore!\n",
    "\n",
    "We understand that we will need to invert the matrix:\n",
    "\n",
    "$$\n",
    "M_{ij} = (v_j,v_i) = \\int v_i\\cdot v_j\n",
    "$$\n",
    "\n",
    "What happens if we choose basis functions such that $(v_j,v_i) =  \\delta_{ij}$?\n",
    "\n",
    "How to construct numerical techniques to evaluate integrals in an efficient way?\n",
    "\n",
    "Evaluate the $L^2$ projection."
   ]
  },
  {
   "cell_type": "markdown",
   "metadata": {},
   "source": [
    "## Orthogonal Polynomials\n",
    "\n",
    "Grham Schmidt\n",
    "\n",
    "$$\n",
    "p_0(x) = 1, \\qquad p_k(x) = x^k - \\sum_{j=0}^{k-1} \\frac{(x^k,p_j(x))}{(p_j(x),p_j(x))} p_j(x)\n",
    "$$\n",
    "\n",
    "or, alternatively\n",
    "\n",
    "$$\n",
    "p_0(x) = 1, \\qquad p_k(x) = x\\,p_{k-1}(x) - \\sum_{j=0}^{k-1} \\frac{(x p_{k-1}(x),p_j(x))}{(p_j(x),p_j(x))}\n",
    "$$"
   ]
  },
  {
   "cell_type": "code",
   "execution_count": 10,
   "metadata": {
    "collapsed": false
   },
   "outputs": [
    {
     "name": "stdout",
     "output_type": "stream",
     "text": [
      "1/4\n"
     ]
    }
   ],
   "source": [
    "def scalar_prod(p0,p1,a=0,b=1):\n",
    "    # we will add something\n",
    "    return sym.integrate(p0*p1,(t,a,b))"
   ]
  },
  {
   "cell_type": "code",
   "execution_count": 39,
   "metadata": {
    "collapsed": false
   },
   "outputs": [
    {
     "name": "stdout",
     "output_type": "stream",
     "text": [
      "1/4\n",
      "[1, 2*sqrt(3)*(t - 1/2), 6*sqrt(5)*(t**2 - t + 1/6), 20*sqrt(7)*(t**3 - 3*t**2/2 + 3*t/5 - 1/20), 210*t**4 - 420*t**3 + 270*t**2 - 60*t + 3]\n"
     ]
    },
    {
     "data": {
      "image/png": "[encoded data removed]",
      "text/plain": [
       "<matplotlib.figure.Figure at 0x10771af10>"
      ]
     },
     "metadata": {},
     "output_type": "display_data"
    }
   ],
   "source": [
    "t = sym.symbols('t')\n",
    "p0 = t\n",
    "p1 = t**2\n",
    "#print(p0,p1)\n",
    "#sym.integrate(p0*p1,(t,0,1))\n",
    "print scalar_prod(p0,p1)\n",
    "\n",
    "# 1+0*t: is a trick because I want all the list to be symbolic\n",
    "Pd = [1+0*t]\n",
    "\n",
    "for k in range(1,5):\n",
    "    s = 0\n",
    "    for j in range(k):\n",
    "        s += scalar_prod(t**k, Pd[j])/scalar_prod(Pd[j],Pd[j])*Pd[j]\n",
    "    pd = t**k - s\n",
    "    # Let's normalize the vectors so they become orthonormal\n",
    "    pd = pd/sym.sqrt(scalar_prod(pd,pd)) \n",
    "    Pd.append(pd)\n",
    "    \n",
    "print Pd\n",
    "\n",
    "M = []\n",
    "\n",
    "for i in range(5):\n",
    "    row = []\n",
    "    for j in range(5):\n",
    "        row.append(scalar_prod(Pd[i],Pd[j]))\n",
    "    M.append(row)\n",
    "   \n",
    "\n",
    "#print type(M)\n",
    "#print M.dot(v)\n",
    "#v = sym.Matrix([[t],[t**2],[1]])\n",
    "#M = sym.Matrix(M)\n",
    "#print type(M)\n",
    "#print M \n",
    "#print M.dot(v)\n",
    "#v = sym.ones(3,1)\n",
    "\n",
    "x = np.linspace(0,1,2**5)\n",
    "\n",
    "for p in Pd:\n",
    "    if p != 1.:\n",
    "        fs = sym.lambdify(t,p,'numpy')\n",
    "        _ = pl.plot(x,fs(x))\n",
    "\n"
   ]
  },
  {
   "cell_type": "code",
   "execution_count": 21,
   "metadata": {
    "collapsed": false
   },
   "outputs": [
    {
     "name": "stdout",
     "output_type": "stream",
     "text": [
      "['a', 1, 'a', 1, 'a', 1]\n"
     ]
    }
   ],
   "source": [
    "mm = ['a',1]*3\n",
    "print mm"
   ]
  },
  {
   "cell_type": "markdown",
   "metadata": {},
   "source": [
    "## Theorem\n",
    "\n",
    "Le $q$ be nonzero polynomial of degree $n+1$ and $\\omega(x)$ a positive weight function, s. t.:\n",
    "\n",
    "$$\n",
    "\\int_a^b x^k q(x)\\, \\omega(x) = 0, \\quad k = 0,\\ldots, n\n",
    "$$\n",
    "\n",
    "If $x_i$ are zeros of $q(x)$, then:\n",
    "\n",
    "$$\n",
    "\\int_a^b f(x)\\, \\omega(x)\\approx \\sum_{i=0}^nw_i\\, f(x_i)\n",
    "$$\n",
    "\n",
    "with:\n",
    "\n",
    "$$\n",
    "w_i = \\int_a^b l_i(x)\\, \\omega(x)\n",
    "$$\n",
    "\n",
    "is exact for all polynomials of degree at most $2n+1$. Here $l_i(x)$ are the usual Lagrange interpolation polynomials.\n",
    "\n",
    "**Proof:** assume $f(x)$ is a polynomial of degree at most $2n+1$ and show:\n",
    "$$\n",
    "\\int_a^b f(x)\\, \\omega(x) = \\sum_{i=0}^nw_i\\, f(x_i).\n",
    "$$\n",
    "Usign the polynomial division we have:\n",
    "$$\n",
    "\\underbrace{f(x)}_{2n+1} = \\underbrace{q(x)}_{n+1}\\, \\underbrace{p(x)}_{n} + \\underbrace{r(x)}_{n}.\n",
    "$$\n",
    "By taking $x_i$ as zeros of $q(x)$ we have:\n",
    "$$\n",
    "f(x_i) = r(x_i)\n",
    "$$\n",
    "Now:\n",
    "$$\n",
    "\\int_a^b f(x)\\, \\omega(x) = \\int_a^b [q(x)\\, p(x) + r(x)]\\, \\omega(x)\n",
    "$$\n",
    "$$\n",
    " = \\underbrace{\\int_a^b q(x)\\, p(x) \\, \\omega(x)}_{=0} + \\int_a^b r(x)\\, \\omega(x)\n",
    "$$\n",
    "Since $r(x)$ is a polynomial of order $n$ this is exact:\n",
    "\n",
    "$$\n",
    "\\int_a^b f(x)\\, \\omega(x) = \\int_a^b r(x)\\, \\omega(x) = \\sum_{i=0}^nw_i\\, r(x_i)\n",
    "$$\n",
    "\n",
    "But since we chose $x_i$ such that $f(x_i) = r(x_i)$, we have:\n",
    "\n",
    "$$\n",
    "\\int_a^b f(x)\\, \\omega(x) = \\int_a^b r(x)\\, \\omega(x) = \\sum_{i=0}^nw_i\\, f(x_i) \n",
    "$$\n",
    "\n",
    "This completes the proof."
   ]
  },
  {
   "cell_type": "markdown",
   "metadata": {},
   "source": [
    "## Legendre Polynomial\n",
    "\n",
    "Two term recursion, to obtain the same orthogonal polynomials above (defined between [-1,1]), normalized to be one in $x=1$:\n",
    "\n",
    "$$\n",
    "(n+1) p^{n+1}(x) = (2n+1)\\, x\\, p^n(x) - n\\, p^{n-1}(x)\n",
    "$$"
   ]
  },
  {
   "cell_type": "code",
   "execution_count": 43,
   "metadata": {
    "collapsed": false
   },
   "outputs": [
    {
     "name": "stdout",
     "output_type": "stream",
     "text": [
      "[1.0, t, 1.5*t**2 - 0.5, t*(2.5*t**2 - 1.5), 4.375*t**4 - 3.75*t**2 + 0.375, t*(7.875*t**4 - 8.75*t**2 + 1.875)]\n"
     ]
    },
    {
     "data": {
      "image/png": "[encoded data removed]",
      "text/plain": [
       "<matplotlib.figure.Figure at 0x1082578d0>"
      ]
     },
     "metadata": {},
     "output_type": "display_data"
    }
   ],
   "source": [
    "Pk = [1.,t]\n",
    "for n in range(1,5):\n",
    "    pk = ((2*n +1)*t*Pk[n] - n*Pk[n-1])/(n+1.)\n",
    "    Pk.append(sym.simplify(pk))\n",
    "\n",
    "print Pk\n",
    "\n",
    "x = np.linspace(-1,1,2**5)\n",
    "\n",
    "for p in Pk:\n",
    "    if p != 1.:\n",
    "        fs = sym.lambdify(t,p,'numpy')\n",
    "        _ = pl.plot(x,fs(x))\n",
    "        "
   ]
  },
  {
   "cell_type": "markdown",
   "metadata": {},
   "source": [
    "In our proof we selected to evaluate $x_i$ at the zeros of the legendre polynomials, this is why we need to evaluate the zeros of the polynomials."
   ]
  },
  {
   "cell_type": "code",
   "execution_count": 47,
   "metadata": {
    "collapsed": false,
    "scrolled": true
   },
   "outputs": [
    {
     "name": "stdout",
     "output_type": "stream",
     "text": [
      "[-sqrt(3)/3, sqrt(3)/3]\n",
      "[-0.577350269189626, 0.577350269189626]\n"
     ]
    }
   ],
   "source": [
    "#print type(Pk[2])\n",
    "p = sym.poly(Pk[2])\n",
    "#print type(p)\n",
    "print p.real_roots()\n",
    "print p.nroots() # numerical\n",
    "\n",
    "\n",
    "#for p in Pk:\n",
    "    "
   ]
  },
  {
   "cell_type": "markdown",
   "metadata": {},
   "source": [
    "$$\n",
    "w_i = \\int_{-1}^{1} l_i(x)\n",
    "$$"
   ]
  },
  {
   "cell_type": "code",
   "execution_count": 51,
   "metadata": {
    "collapsed": false
   },
   "outputs": [
    {
     "name": "stdout",
     "output_type": "stream",
     "text": [
      "[1.0, 1.0]\n",
      "[-0.866025403784439*t + 0.5, 0.866025403784439*t + 0.5]\n"
     ]
    },
    {
     "data": {
      "image/png": "[encoded data removed]",
      "text/plain": [
       "<matplotlib.figure.Figure at 0x1084d1410>"
      ]
     },
     "metadata": {},
     "output_type": "display_data"
    }
   ],
   "source": [
    "q = sym.poly(Pk[2]).nroots()\n",
    "\n",
    "Ln = [1. for i in range(len(q))]\n",
    "print Ln\n",
    "\n",
    "for i in range(len(q)):\n",
    "    for j in range(len(q)):\n",
    "        if i != j:\n",
    "            Ln[i] *= (t - q[j])/(q[i] - q[j])\n",
    "            \n",
    "print Ln\n",
    "\n",
    "x = np.linspace(-1,1,2**5)\n",
    "\n",
    "\n",
    "for p in Ln:\n",
    "    if p != 1.:\n",
    "        fs = sym.lambdify(t,p,'numpy')\n",
    "        _ = pl.plot(x,fs(x))\n",
    "                        \n"
   ]
  },
  {
   "cell_type": "code",
   "execution_count": 57,
   "metadata": {
    "collapsed": false
   },
   "outputs": [
    {
     "name": "stdout",
     "output_type": "stream",
     "text": [
      "1.00000000000000\n",
      "1.00000000000000\n"
     ]
    }
   ],
   "source": [
    "for l in Ln:\n",
    "    print(sym.integrate(l,(t,-1,1))) "
   ]
  },
  {
   "cell_type": "markdown",
   "metadata": {},
   "source": [
    "### Hint\n",
    "Proiezione usando polinomi LEGENDRE (f,v_i)"
   ]
  },
  {
   "cell_type": "markdown",
   "metadata": {},
   "source": [
    "# Now let's get Numerical\n",
    "\n",
    "From now on I work on the $[0,1]$ interval, becouse i like it this way :)\n",
    "\n",
    "\n",
    "\n",
    "In the previus section we explored what sympbolically was happening, now we implement things on the computer. We saw how important are the legendre plynomials. Here a little documentation on that. I pont it out not because you need to read it all, but because I would like you get some aquitance with this criptic documentation pages [doc](https://docs.scipy.org/doc/numpy/reference/generated/numpy.polynomial.legendre.legroots.html#numpy.polynomial.legendre.legroots).\n",
    "\n",
    "The problem we aim at solving is finding the coefficents $p_j$ such that:\n",
    "$$\n",
    "(v_j,v_i) p^j = (f,v_i),\\quad \\forall v_i\\in V.\n",
    "$$\n",
    "Remind in this section the einstein notation holds.\n",
    "\n",
    "We can expand the compact scalar product notation:\n",
    "$$\n",
    "p^j \\int_0^1 v_i\\, v_j = \\int_0^1 f\\, v_i,\\quad \\forall v_i\\in V.\n",
    "$$\n",
    "\n",
    "We consider $V = \\mathrm{span}\\{l_i\\}$. Our problem becomes:\n",
    "$$\n",
    "p^j \\int_0^1 l_i\\, l_j = \\int_0^1 f\\, l_i,\\quad \\mathrm{for}\\ i = 0,\\ldots,\\mathtt{deg}\n",
    "$$\n",
    "Let's focus on mass matrix:\n",
    "$$\n",
    "\\int_0^1 l_i(x)\\, l_j(x) = \\sum_k l_i(x_k)\\, w_k\\, l_j(x_k) = \n",
    "$$\n",
    "\n",
    "$$\n",
    "=\n",
    "\\left(\n",
    "\\begin{array}{c c c c}\n",
    "l_0(x_0) & l_0(x_1) & \\ldots & l_0(x_q) \\\\\n",
    "l_1(x_0) & l_1(x_1) & \\ldots & l_1(x_q) \\\\\n",
    " & \\ldots & \\ldots  & \\\\\n",
    "l_n(x_0) & l_n(x_1) & \\ldots & l_n(x_q) \\\\\n",
    "\\end{array}\n",
    "\\right)\n",
    "\\left(\n",
    "\\begin{array}{c c c c}\n",
    "w_0 &   0 & \\ldots & 0 \\\\\n",
    "  0 & w_1 & \\ldots & 0 \\\\\n",
    "   & \\ldots & \\ldots  & \\\\\n",
    "  0 &   0 & \\ldots & w_q \\\\\n",
    "\\end{array}\n",
    "\\right)\n",
    "\\left(\n",
    "\\begin{array}{c c c c}\n",
    "l_0(x_0) & l_1(x_0) & \\ldots & l_n(x_0) \\\\\n",
    "l_0(x_1) & l_1(x_1) & \\ldots & l_n(x_1) \\\\\n",
    " & \\ldots & \\ldots  & \\\\\n",
    "l_0(x_q) & l_1(x_q) & \\ldots & l_n(x_q) \\\\\n",
    "\\end{array}\n",
    "\\right)\n",
    "= B\\, W\\, B^T\n",
    "$$"
   ]
  },
  {
   "cell_type": "markdown",
   "metadata": {},
   "source": [
    "A piece of curiosity, how the the two functions to find theros in two different ways"
   ]
  },
  {
   "cell_type": "code",
   "execution_count": 59,
   "metadata": {
    "collapsed": false
   },
   "outputs": [
    {
     "name": "stdout",
     "output_type": "stream",
     "text": [
      "[-0.57735027  0.57735027]\n"
     ]
    }
   ],
   "source": [
    "coeffs = np.zeros(3) \n",
    "coeffs[-1] = 1.\n",
    "print leg.legroots(coeffs)\n"
   ]
  },
  {
   "cell_type": "code",
   "execution_count": 61,
   "metadata": {
    "collapsed": true
   },
   "outputs": [],
   "source": [
    "def lg_set(q):\n",
    "    n = q.shape[0]\n",
    "    L = [n_poly.Polynomial.fromroots(\\\n",
    "            [xj for xj in q if xj != q[i]]) for i in range(n)]\n",
    "    L = [L[i]/L[i](q[i]) for i in range(n)]\n",
    "    return L"
   ]
  },
  {
   "cell_type": "code",
   "execution_count": 76,
   "metadata": {
    "collapsed": false
   },
   "outputs": [
    {
     "name": "stdout",
     "output_type": "stream",
     "text": [
      "[Polynomial([  1.        ,  -8.33333333,  23.33333333, -26.66666667,  10.66666667], [-1.,  1.], [-1.,  1.]), Polynomial([ -0.        ,  16.        , -69.33333333,  96.        , -42.66666667], [-1.,  1.], [-1.,  1.]), Polynomial([   0.,  -12.,   76., -128.,   64.], [-1.,  1.], [-1.,  1.]), Polynomial([ -0.        ,   5.33333333, -37.33333333,  74.66666667, -42.66666667], [-1.,  1.], [-1.,  1.]), Polynomial([  0.        ,  -1.        ,   7.33333333, -16.        ,  10.66666667], [-1.,  1.], [-1.,  1.])]\n"
     ]
    },
    {
     "data": {
      "image/png": "[encoded data removed]",
      "text/plain": [
       "<matplotlib.figure.Figure at 0x10825f7d0>"
      ]
     },
     "metadata": {},
     "output_type": "display_data"
    }
   ],
   "source": [
    "deg = 4\n",
    "\n",
    "int_p = np.linspace(0,1,deg+1)\n",
    "\n",
    "L = lg_set(int_p)\n",
    "\n",
    "print L\n",
    "\n",
    "x = np.linspace(0,1,2**5)\n",
    "\n",
    "for p in L:\n",
    "    _ = pl.plot(x,p(x))"
   ]
  },
  {
   "cell_type": "markdown",
   "metadata": {},
   "source": [
    "differenza fra le roots \"simboliche\" e non"
   ]
  },
  {
   "cell_type": "code",
   "execution_count": 86,
   "metadata": {
    "collapsed": false
   },
   "outputs": [
    {
     "name": "stdout",
     "output_type": "stream",
     "text": [
      "[ 0.04691008  0.23076534  0.5         0.76923466  0.95308992] [ 0.11846344  0.23931434  0.28444444  0.23931434  0.11846344]\n"
     ]
    }
   ],
   "source": [
    "Nq = 5\n",
    "p,w = leg.leggauss(Nq)\n",
    "\n",
    "p = .5*p + .5\n",
    "w = .5*w\n",
    "print p, w"
   ]
  },
  {
   "cell_type": "code",
   "execution_count": 87,
   "metadata": {
    "collapsed": false
   },
   "outputs": [
    {
     "name": "stdout",
     "output_type": "stream",
     "text": [
      "[[ 0.11846344  0.          0.          0.          0.        ]\n",
      " [ 0.          0.23931434  0.          0.          0.        ]\n",
      " [ 0.          0.          0.28444444  0.          0.        ]\n",
      " [ 0.          0.          0.          0.23931434  0.        ]\n",
      " [ 0.          0.          0.          0.          0.11846344]]\n"
     ]
    }
   ],
   "source": [
    "B = np.zeros((0,Nq))\n",
    "for l in L:\n",
    "    B = np.vstack([B,l(p)])\n",
    "    \n",
    "#print B\n",
    "#pl.plot(B.T)\n",
    "W = np.diag(w)\n",
    "print W"
   ]
  },
  {
   "cell_type": "code",
   "execution_count": null,
   "metadata": {
    "collapsed": false
   },
   "outputs": [],
   "source": [
    "\n",
    "          "
   ]
  },
  {
   "cell_type": "markdown",
   "metadata": {},
   "source": [
    "Recall:\n",
    "$$\n",
    "B\\, W\\, B^T p = B W f\n",
    "$$\n",
    "\n",
    "$$\n",
    "B\\, W\\, B^T = \n",
    "\\left(\n",
    "\\begin{array}{c c c c}\n",
    "l_0(x_0) & l_0(x_1) & \\ldots & l_0(x_q) \\\\\n",
    "l_1(x_0) & l_1(x_1) & \\ldots & l_1(x_q) \\\\\n",
    " &  & \\ddots  & \\\\\n",
    "l_n(x_0) & l_n(x_1) & \\ldots & l_n(x_q) \\\\\n",
    "\\end{array}\n",
    "\\right)\n",
    "\\left(\n",
    "\\begin{array}{c c c c}\n",
    "w_0 &   0 & \\ldots & 0 \\\\\n",
    "  0 & w_1 & \\ldots & 0 \\\\\n",
    "   &  & \\ddots  & \\\\\n",
    "  0 &   0 & \\ldots & w_q \\\\\n",
    "\\end{array}\n",
    "\\right)\n",
    "\\left(\n",
    "\\begin{array}{c c c c}\n",
    "l_0(x_0) & l_1(x_0) & \\ldots & l_n(x_0) \\\\\n",
    "l_0(x_1) & l_1(x_1) & \\ldots & l_n(x_1) \\\\\n",
    " & & \\ddots  & \\\\\n",
    "l_0(x_q) & l_1(x_q) & \\ldots & l_n(x_q) \\\\\n",
    "\\end{array}\n",
    "\\right)\n",
    "$$"
   ]
  },
  {
   "cell_type": "code",
   "execution_count": 88,
   "metadata": {
    "collapsed": false
   },
   "outputs": [
    {
     "name": "stdout",
     "output_type": "stream",
     "text": [
      "(5,)\n"
     ]
    }
   ],
   "source": [
    "f = lambda x: np.sin(2*np.pi*x)\n",
    "g = B.dot(W.dot(f(p)))\n",
    "\n",
    "print g.shape"
   ]
  },
  {
   "cell_type": "code",
   "execution_count": null,
   "metadata": {
    "collapsed": true
   },
   "outputs": [],
   "source": [
    "p = np.linalg.solve(M,g)"
   ]
  },
  {
   "cell_type": "markdown",
   "metadata": {},
   "source": [
    "$$\n",
    "B\\, W\\, f = \n",
    "\\left(\n",
    "\\begin{array}{c c c c}\n",
    "l_0(x_0) & l_0(x_1) & \\ldots & l_0(x_q) \\\\\n",
    "l_1(x_0) & l_1(x_1) & \\ldots & l_1(x_q) \\\\\n",
    " & \\ldots & \\ldots  & \\\\\n",
    "l_n(x_0) & l_n(x_1) & \\ldots & l_n(x_q) \\\\\n",
    "\\end{array}\n",
    "\\right)\n",
    "\\left(\n",
    "\\begin{array}{c c c c}\n",
    "w_0 &   0 & \\ldots & 0 \\\\\n",
    "  0 & w_1 & \\ldots & 0 \\\\\n",
    "   & \\ldots & \\ldots  & \\\\\n",
    "  0 &   0 & \\ldots & w_q \\\\\n",
    "\\end{array}\n",
    "\\right)\n",
    "\\left(\n",
    "\\begin{array}{c}\n",
    "f(x_0) \\\\\n",
    "f(x_1) \\\\\n",
    "\\vdots\\\\\n",
    "f(x_q) \\\\\n",
    "\\end{array}\n",
    "\\right)\n",
    "$$"
   ]
  },
  {
   "cell_type": "code",
   "execution_count": null,
   "metadata": {
    "collapsed": false
   },
   "outputs": [],
   "source": []
  },
  {
   "cell_type": "code",
   "execution_count": null,
   "metadata": {
    "collapsed": false
   },
   "outputs": [],
   "source": []
  },
  {
   "cell_type": "code",
   "execution_count": 89,
   "metadata": {
    "collapsed": true
   },
   "outputs": [],
   "source": [
    "def get_interpolating_function(LL,ui):\n",
    "    def func(LL,ui,x):\n",
    "        acc = 0\n",
    "        for L,u in zip(LL,ui):\n",
    "            #print(L,u)\n",
    "            acc+=u*L(x)\n",
    "        return acc\n",
    "    return lambda x : func(LL,ui,x)"
   ]
  },
  {
   "cell_type": "code",
   "execution_count": null,
   "metadata": {
    "collapsed": false
   },
   "outputs": [],
   "source": []
  }
 ],
 "metadata": {
  "anaconda-cloud": {},
  "kernelspec": {
   "display_name": "Python 2",
   "language": "python",
   "name": "python2"
  },
  "language_info": {
   "codemirror_mode": {
    "name": "ipython",
    "version": 2
   },
   "file_extension": ".py",
   "mimetype": "text/x-python",
   "name": "python",
   "nbconvert_exporter": "python",
   "pygments_lexer": "ipython2",
   "version": "2.7.11"
  }
 },
 "nbformat": 4,
 "nbformat_minor": 0
}
