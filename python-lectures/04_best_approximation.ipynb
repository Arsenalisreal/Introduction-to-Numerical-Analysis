{
 "cells": [
  {
   "cell_type": "markdown",
   "metadata": {},
   "source": [
    "# Best Approximation in Hilbert Spaces"
   ]
  },
  {
   "cell_type": "code",
   "execution_count": 4,
   "metadata": {
    "collapsed": true
   },
   "outputs": [],
   "source": [
    "%matplotlib inline\n",
    "import sympy as sym\n",
    "import pylab as pl\n",
    "import numpy as np\n",
    "import numpy.polynomial.polynomial as n_poly\n",
    "import numpy.polynomial.legendre as leg"
   ]
  },
  {
   "cell_type": "markdown",
   "metadata": {},
   "source": [
    "## Mindflow\n",
    "\n",
    "We want the best approximation (in Hilbert Spaces) of the function $f$, on the space $V = \\mathrm{span}\\{v_i\\}$. Remember that $p\\in V$ is best approximation of $f$ if and only if:\n",
    "\n",
    "$$\n",
    "(p-f,q)=0, \\quad \\forall q\\in V.\n",
    "$$\n",
    "\n",
    "Focus one second on the fact that both $p$ and $q$ belong to $V$. We know that any $q$ can be expressed as a linear combination of the basis functions $v_i$:\n",
    "\n",
    "$$\n",
    "(p-f,v_i)=0, \\quad \\forall v_i\\in V.\n",
    "$$\n",
    "\n",
    "Moreover $p$ is uniquely defined by the coefficients $p^j$ such that $p = p^j\\,v_j$. Collecting this information together we get:\n",
    "\n",
    "$$\n",
    "(v_j,v_i) p^j = (f,v_i),\\quad \\forall v_i\\in V.\n",
    "$$\n",
    "\n",
    "Now that we know our goal (finding these $p^j$ coefficients) we do what the rangers do: we explore!\n",
    "\n",
    "We understand that we will need to invert the matrix:\n",
    "\n",
    "$$\n",
    "M_{ij} = (v_j,v_i) = \\int v_i\\cdot v_j\n",
    "$$\n",
    "\n",
    "What happens if we choose basis functions such that $(v_j,v_i) =  \\delta_{ij}$?\n",
    "\n",
    "How to construct numerical techniques to evaluate integrals in an efficient way?\n",
    "\n",
    "Evaluate the $L^2$ projection."
   ]
  },
  {
   "cell_type": "markdown",
   "metadata": {},
   "source": [
    "## Orthogonal Polynomials\n",
    "\n",
    "Grham Schmidt\n",
    "\n",
    "$$\n",
    "p_0(x) = 1, \\qquad p_k(x) = x^k - \\sum_{j=0}^{k-1} \\frac{(x^k,p_j(x))}{(p_j(x),p_j(x))} p_j(x)\n",
    "$$\n",
    "\n",
    "or, alternatively\n",
    "\n",
    "$$\n",
    "p_0(x) = 1, \\qquad p_k(x) = x\\,p_{k-1}(x) - \\sum_{j=0}^{k-1} \\frac{(x p_{k-1}(x),p_j(x))}{(p_j(x),p_j(x))} p_j(x)\n",
    "$$"
   ]
  },
  {
   "cell_type": "code",
   "execution_count": 5,
   "metadata": {
    "collapsed": false
   },
   "outputs": [],
   "source": [
    "def scalar_prod(p0,p1,a=0,b=1):\n",
    "    assert len(p0.free_symbols) <= 1, \"I can only do this for single variable functions...\"\n",
    "    t = p0.free_symbols.pop() if len(p0.free_symbols) == 1 else sym.symbols('t')\n",
    "    return sym.integrate(p0*p1,(t,a,b))"
   ]
  },
  {
   "cell_type": "code",
   "execution_count": 13,
   "metadata": {
    "collapsed": false
   },
   "outputs": [
    {
     "name": "stdout",
     "output_type": "stream",
     "text": [
      "Matrix([[1, 0, 0, 1.77635683940025e-15, -5.32907051820075e-15], [0, 0.333333333333333, -8.88178419700125e-16, 0, -7.10542735760100e-15], [0, -8.88178419700125e-16, 0.200000000000003, 2.84217094304040e-14, -5.68434188608080e-14], [1.77635683940025e-15, 0, 2.84217094304040e-14, 0.142857142857110, -3.26849658449646e-13], [-5.32907051820075e-15, -7.10542735760100e-15, -5.68434188608080e-14, -3.26849658449646e-13, 0.111111111112791]])\n",
      "[1, 2.0*t - 1.0, 6.00000000000002*t**2 - 6.00000000000003*t + 1.00000000000001, 19.9999999999979*t**3 - 29.9999999999964*t**2 + 11.9999999999982*t - 0.999999999999812, 70.0000000002527*t**4 - 140.00000000057*t**3 + 90.000000000419*t**2 - 20.0000000001085*t + 1.00000000000646]\n",
      "[ 0.       0.03125  0.0625   0.09375  0.125    0.15625  0.1875   0.21875\n",
      "  0.25     0.28125  0.3125   0.34375  0.375    0.40625  0.4375   0.46875\n",
      "  0.5      0.53125  0.5625   0.59375  0.625    0.65625  0.6875   0.71875\n",
      "  0.75     0.78125  0.8125   0.84375  0.875    0.90625  0.9375   0.96875\n",
      "  1.     ]\n"
     ]
    },
    {
     "data": {
      "image/png": "[encoded data removed]",
      "text/plain": [
       "<matplotlib.figure.Figure at 0x10817b250>"
      ]
     },
     "metadata": {},
     "output_type": "display_data"
    }
   ],
   "source": [
    "t = sym.symbols('t')\n",
    "#k = 3\n",
    "\n",
    "Pk = [1+0*t] # Force it to be a sympy expression\n",
    "\n",
    "for k in range(1,5):\n",
    "    s = 0\n",
    "    for j in range(0,k):\n",
    "        s+= scalar_prod(t**k,Pk[j])/scalar_prod(Pk[j],Pk[j])*Pk[j]\n",
    "    pk = t**k-s\n",
    "    # pk = pk/sym.sqrt(scalar_prod(pk,pk))\n",
    "    pk = pk/pk.subs(t,1.)\n",
    "    Pk.append(pk)\n",
    "\n",
    "\n",
    "M = []\n",
    "for i in range(len(Pk)):\n",
    "    row = []\n",
    "    for j in range(len(Pk)):\n",
    "        row.append(scalar_prod(Pk[i],Pk[j]))\n",
    "    M.append(row)\n",
    "\n",
    "M = sym.Matrix(M) \n",
    "\n",
    "print(M)\n",
    "print Pk\n",
    "\n",
    "x = np.linspace(0,1,2**5 + 1)\n",
    "\n",
    "print x\n",
    "\n",
    "for p in Pk:\n",
    "    if p != 1 :\n",
    "        fs = sym.lambdify(t, p, 'numpy')\n",
    "        #print x.shape\n",
    "        #print fs(x)\n",
    "        _ = pl.plot(x,fs(x))"
   ]
  },
  {
   "cell_type": "markdown",
   "metadata": {},
   "source": [
    "## Theorem\n",
    "\n",
    "Le $q$ be nonzero polynomial of degree $n+1$ and $\\omega(x)$ a positive weight function, s. t.:\n",
    "\n",
    "$$\n",
    "\\int_a^b x^k q(x)\\, \\omega(x) = 0, \\quad k = 0,\\ldots, n\n",
    "$$\n",
    "\n",
    "If $x_i$ are zeros of $q(x)$, then:\n",
    "\n",
    "$$\n",
    "\\int_a^b f(x)\\, \\omega(x)\\approx \\sum_{i=0}^nw_i\\, f(x_i)\n",
    "$$\n",
    "\n",
    "with:\n",
    "\n",
    "$$\n",
    "w_i = \\int_a^b l_i(x)\\, \\omega(x)\n",
    "$$\n",
    "\n",
    "is exact for all polynomials of degree at most $2n+1$. Here $l_i(x)$ are the usual Lagrange interpolation polynomials.\n",
    "\n",
    "**Proof:** assume $f(x)$ is a polynomial of degree at most $2n+1$ and show:\n",
    "$$\n",
    "\\int_a^b f(x)\\, \\omega(x) = \\sum_{i=0}^nw_i\\, f(x_i).\n",
    "$$\n",
    "Usign the polynomial division we have:\n",
    "$$\n",
    "\\underbrace{f(x)}_{2n+1} = \\underbrace{q(x)}_{n+1}\\, \\underbrace{p(x)}_{n} + \\underbrace{r(x)}_{n}.\n",
    "$$\n",
    "By taking $x_i$ as zeros of $q(x)$ we have:\n",
    "$$\n",
    "f(x_i) = r(x_i)\n",
    "$$\n",
    "Now:\n",
    "$$\n",
    "\\int_a^b f(x)\\, \\omega(x) = \\int_a^b [q(x)\\, p(x) + r(x)]\\, \\omega(x)\n",
    "$$\n",
    "$$\n",
    " = \\underbrace{\\int_a^b q(x)\\, p(x) \\, \\omega(x)}_{=0} + \\int_a^b r(x)\\, \\omega(x)\n",
    "$$\n",
    "Since $r(x)$ is a polynomial of order $n$ this is exact:\n",
    "\n",
    "$$\n",
    "\\int_a^b f(x)\\, \\omega(x) = \\int_a^b r(x)\\, \\omega(x) = \\sum_{i=0}^nw_i\\, r(x_i)\n",
    "$$\n",
    "\n",
    "But since we chose $x_i$ such that $f(x_i) = r(x_i)$, we have:\n",
    "\n",
    "$$\n",
    "\\int_a^b f(x)\\, \\omega(x) = \\int_a^b r(x)\\, \\omega(x) = \\sum_{i=0}^nw_i\\, f(x_i) \n",
    "$$\n",
    "\n",
    "This completes the proof."
   ]
  },
  {
   "cell_type": "markdown",
   "metadata": {},
   "source": [
    "## Legendre Polynomial\n",
    "\n",
    "Two term recursion, to obtain the same orthogonal polynomials above (defined between [-1,1]), normalized to be one in $x=1$:\n",
    "\n",
    "$$\n",
    "(n+1) p^{n+1}(x) = (2n+1)\\, x\\, p^n(x) - n\\, p^{n-1}(x)\n",
    "$$"
   ]
  },
  {
   "cell_type": "code",
   "execution_count": 14,
   "metadata": {
    "collapsed": false
   },
   "outputs": [
    {
     "name": "stdout",
     "output_type": "stream",
     "text": [
      "[1.0, t, 1.5*t**2 - 0.5, t*(2.5*t**2 - 1.5), 4.375*t**4 - 3.75*t**2 + 0.375, t*(7.875*t**4 - 8.75*t**2 + 1.875)]\n",
      "0\n"
     ]
    },
    {
     "data": {
      "image/png": "[encoded data removed]",
      "text/plain": [
       "<matplotlib.figure.Figure at 0x108196d90>"
      ]
     },
     "metadata": {},
     "output_type": "display_data"
    }
   ],
   "source": [
    "Pn = [1.,t]\n",
    "\n",
    "#Pn = [1.,x, ((2*n+1)*x*Pn[n] - n*Pn[n-1])/(n+1.) for n in range(1,2)]\n",
    "\n",
    "for n in range(1,5):\n",
    "    pn1 = ((2*n+1)*t*Pn[n] - n*Pn[n-1])/(n+1.)\n",
    "    Pn.append(sym.simplify(pn1))\n",
    "    \n",
    "print(Pn)\n",
    "\n",
    "#print(sym.poly(p))\n",
    "#print(sym.real_roots(sym.poly(p)))\n",
    "print(sym.integrate(Pn[4]*Pn[3],(t,-1,1)))\n",
    "\n",
    "\n",
    "x = np.linspace(-1,1,100)\n",
    "for p in Pn:\n",
    "    if p != 1. :\n",
    "        fs = sym.lambdify(t, p, 'numpy')\n",
    "        #print x.shape\n",
    "        #print fs(x)\n",
    "        _ = pl.plot(x,fs(x))\n"
   ]
  },
  {
   "cell_type": "markdown",
   "metadata": {},
   "source": [
    "In our proof we selected to evaluate $ r $ and $f$ in $x_i$ at the zeros of the legendre polynomials, this is why we need to evaluate the zeros of the polynomials."
   ]
  },
  {
   "cell_type": "code",
   "execution_count": 16,
   "metadata": {
    "collapsed": false,
    "scrolled": true
   },
   "outputs": [
    {
     "name": "stdout",
     "output_type": "stream",
     "text": [
      "[-sqrt(15)/5, 0, sqrt(15)/5]\n",
      "[-sqrt(15)/5, 0, sqrt(15)/5]\n",
      "[0]\n",
      "[-0.577350269189626, 0.577350269189626]\n",
      "[-0.774596669241483, 0, 0.774596669241483]\n",
      "[-0.861136311594053, -0.339981043584856, 0.339981043584856, 0.861136311594053]\n",
      "[-0.906179845938664, -0.538469310105683, 0, 0.538469310105683, 0.906179845938664]\n"
     ]
    }
   ],
   "source": [
    "print(sym.real_roots(sym.poly(Pn[3])))\n",
    "\n",
    "#q = [-1.]+sym.real_roots(sym.poly(Pn[2]))+[1.]\n",
    "q = sym.real_roots(sym.poly(Pn[3]))\n",
    "print(q)\n",
    "\n",
    "for p in Pn:\n",
    "    if p != 1. :\n",
    "        #print(sym.poly(p))\n",
    "        #print(sym.real_roots(sym.poly(p)))\n",
    "        print(sym.nroots(sym.poly(p)))\n",
    "\n"
   ]
  },
  {
   "cell_type": "markdown",
   "metadata": {},
   "source": [
    "$$\n",
    "w_i = \\int_{-1}^{1} l_i(x)\n",
    "$$"
   ]
  },
  {
   "cell_type": "code",
   "execution_count": 17,
   "metadata": {
    "collapsed": false
   },
   "outputs": [
    {
     "name": "stdout",
     "output_type": "stream",
     "text": [
      "[1.0, 1.0, 1.0]\n",
      "[0.833333333333333*t*(t - sqrt(15)/5), -1.66666666666667*(t - sqrt(15)/5)*(t + sqrt(15)/5), 0.833333333333333*t*(t + sqrt(15)/5)]\n"
     ]
    },
    {
     "data": {
      "image/png": "[encoded data removed]",
      "text/plain": [
       "<matplotlib.figure.Figure at 0x10752a2d0>"
      ]
     },
     "metadata": {},
     "output_type": "display_data"
    }
   ],
   "source": [
    "Lg = [1. for i in range(len(q))]\n",
    "print(Lg)\n",
    "\n",
    "#for i in range(n+1):\n",
    "for i in range(len(q)):\n",
    "    for j in range(len(q)):\n",
    "        if j != i:\n",
    "            Lg[i] *= (t-q[j])/(q[i]-q[j])\n",
    "\n",
    "print(Lg)\n",
    "\n",
    "x = np.linspace(-1,1,100)\n",
    "\n",
    "for poly in Lg:\n",
    "    fs = sym.lambdify(t, poly, 'numpy')\n",
    "    _ = pl.plot(x,fs(x))"
   ]
  },
  {
   "cell_type": "code",
   "execution_count": 18,
   "metadata": {
    "collapsed": false
   },
   "outputs": [
    {
     "name": "stdout",
     "output_type": "stream",
     "text": [
      "0.555555555555555\n",
      "0.888888888888889\n",
      "0.555555555555555\n"
     ]
    }
   ],
   "source": [
    "for poly in Lg:\n",
    "    print(sym.integrate(poly,(t,-1,1)))"
   ]
  },
  {
   "cell_type": "markdown",
   "metadata": {},
   "source": [
    "### Hint\n",
    "Proiezione usando polinomi LEGENDRE (f,v_i)"
   ]
  },
  {
   "cell_type": "markdown",
   "metadata": {},
   "source": [
    "# Now let's get Numerical\n",
    "\n",
    "From now on I work on the $[0,1]$ interval, becouse i like it this way :)\n",
    "\n",
    "\n",
    "\n",
    "In the previus section we explored what sympbolically was happening, now we implement things on the computer. We saw how important are the legendre plynomials. Here a little documentation on that. I pont it out not because you need to read it all, but because I would like you get some aquitance with this criptic documentation pages [doc](https://docs.scipy.org/doc/numpy/reference/generated/numpy.polynomial.legendre.legroots.html#numpy.polynomial.legendre.legroots).\n",
    "\n",
    "The problem we aim at solving is finding the coefficents $p_j$ such that:\n",
    "$$\n",
    "(v_j,v_i) p^j = (f,v_i),\\quad \\forall v_i\\in V.\n",
    "$$\n",
    "Remind in this section the einstein notation holds.\n",
    "\n",
    "We can expand the compact scalar product notation:\n",
    "$$\n",
    "p^j \\int_0^1 v_i\\, v_j = \\int_0^1 f\\, v_i,\\quad \\forall v_i\\in V.\n",
    "$$\n",
    "\n",
    "We consider $V = \\mathrm{span}\\{l_i\\}$. Our problem becomes:\n",
    "$$\n",
    "p^j \\int_0^1 l_i\\, l_j = \\int_0^1 f\\, l_i,\\quad \\mathrm{for}\\ i = 0,\\ldots,\\mathtt{deg}\n",
    "$$\n",
    "Let's focus on mass matrix:\n",
    "$$\n",
    "\\int_0^1 l_i(x)\\, l_j(x) = \\sum_k l_i(x_k)\\, w_k\\, l_j(x_k) = \n",
    "$$\n",
    "\n",
    "$$\n",
    "=\n",
    "\\left(\n",
    "\\begin{array}{c c c c}\n",
    "l_0(x_0) & l_0(x_1) & \\ldots & l_0(x_q) \\\\\n",
    "l_1(x_0) & l_1(x_1) & \\ldots & l_1(x_q) \\\\\n",
    " & \\ldots & \\ldots  & \\\\\n",
    "l_n(x_0) & l_n(x_1) & \\ldots & l_n(x_q) \\\\\n",
    "\\end{array}\n",
    "\\right)\n",
    "\\left(\n",
    "\\begin{array}{c c c c}\n",
    "w_0 &   0 & \\ldots & 0 \\\\\n",
    "  0 & w_1 & \\ldots & 0 \\\\\n",
    "   & \\ldots & \\ldots  & \\\\\n",
    "  0 &   0 & \\ldots & w_q \\\\\n",
    "\\end{array}\n",
    "\\right)\n",
    "\\left(\n",
    "\\begin{array}{c c c c}\n",
    "l_0(x_0) & l_1(x_0) & \\ldots & l_n(x_0) \\\\\n",
    "l_0(x_1) & l_1(x_1) & \\ldots & l_n(x_1) \\\\\n",
    " & \\ldots & \\ldots  & \\\\\n",
    "l_0(x_q) & l_1(x_q) & \\ldots & l_n(x_q) \\\\\n",
    "\\end{array}\n",
    "\\right)\n",
    "= B\\, W\\, B^T\n",
    "$$"
   ]
  },
  {
   "cell_type": "markdown",
   "metadata": {},
   "source": [
    "A piece of curiosity, how the the two functions to find theros in two different ways"
   ]
  },
  {
   "cell_type": "code",
   "execution_count": 10,
   "metadata": {
    "collapsed": false
   },
   "outputs": [
    {
     "name": "stdout",
     "output_type": "stream",
     "text": [
      "[-0.906179845938664, -0.538469310105683, 0, 0.538469310105683, 0.906179845938664]\n",
      "[ -9.06179846e-01  -5.38469310e-01  -5.96500148e-17   5.38469310e-01\n",
      "   9.06179846e-01]\n"
     ]
    }
   ],
   "source": [
    "print sym.nroots(sym.poly(Pn[-1]))\n",
    "coeffs = np.zeros(6)\n",
    "coeffs[-1] = 1.\n",
    "print(leg.legroots(coeffs))"
   ]
  },
  {
   "cell_type": "code",
   "execution_count": 11,
   "metadata": {
    "collapsed": false
   },
   "outputs": [
    {
     "name": "stdout",
     "output_type": "stream",
     "text": [
      "[ 0.11270167  0.5         0.88729833]\n",
      "0.887298334621\n"
     ]
    }
   ],
   "source": [
    "print gauss_points(3)\n",
    "print(np.sqrt(3./5.)*.5)+.5"
   ]
  },
  {
   "cell_type": "code",
   "execution_count": 12,
   "metadata": {
    "collapsed": true
   },
   "outputs": [],
   "source": [
    "def define_lagrange_basis_set(q):\n",
    "    n = q.shape[0]\n",
    "    L = [n_poly.Polynomial.fromroots([xj for xj in q if xj != q[i]]) for i in range(n)]\n",
    "    L = [L[i]/L[i](q[i]) for i in range(n)]\n",
    "    return L"
   ]
  },
  {
   "cell_type": "markdown",
   "metadata": {},
   "source": [
    "differenza fra le roots \"simboliche\" e non"
   ]
  },
  {
   "cell_type": "code",
   "execution_count": 14,
   "metadata": {
    "collapsed": false
   },
   "outputs": [],
   "source": [
    "deg = 4\n",
    "Nq = deg+1\n",
    "p,w = leg.leggauss(Nq)\n",
    "w = .5 * w\n",
    "p = .5*(p+1)\n",
    "#print p\n",
    "#print w\n",
    "W = np.diag(w)\n",
    "#print W"
   ]
  },
  {
   "cell_type": "code",
   "execution_count": 15,
   "metadata": {
    "collapsed": false
   },
   "outputs": [
    {
     "name": "stdout",
     "output_type": "stream",
     "text": [
      "5\n"
     ]
    },
    {
     "data": {
      "image/png": "[encoded data removed]",
      "text/plain": [
       "<matplotlib.figure.Figure at 0x10f4c2dd0>"
      ]
     },
     "metadata": {},
     "output_type": "display_data"
    }
   ],
   "source": [
    "int_p = np.linspace(0,1,deg+1)\n",
    "L = define_lagrange_basis_set(int_p)\n",
    "\n",
    "print(len(L))\n",
    "\n",
    "x = np.linspace(0,1,1025)\n",
    "for f in L:\n",
    "    _ = pl.plot(x, f(x))\n",
    "_ = pl.plot(int_p, 0*int_p, 'ro')"
   ]
  },
  {
   "cell_type": "code",
   "execution_count": 16,
   "metadata": {
    "collapsed": false
   },
   "outputs": [],
   "source": [
    "B = np.zeros((0,Nq))\n",
    "for l in L:\n",
    "    B = np.vstack([B,l(p)])"
   ]
  },
  {
   "cell_type": "markdown",
   "metadata": {},
   "source": [
    "Recall:\n",
    "$$\n",
    "B\\, W\\, B^T p = B W f\n",
    "$$\n",
    "\n",
    "$$\n",
    "B\\, W\\, B^T = \n",
    "\\left(\n",
    "\\begin{array}{c c c c}\n",
    "l_0(x_0) & l_0(x_1) & \\ldots & l_0(x_q) \\\\\n",
    "l_1(x_0) & l_1(x_1) & \\ldots & l_1(x_q) \\\\\n",
    " &  & \\ddots  & \\\\\n",
    "l_n(x_0) & l_n(x_1) & \\ldots & l_n(x_q) \\\\\n",
    "\\end{array}\n",
    "\\right)\n",
    "\\left(\n",
    "\\begin{array}{c c c c}\n",
    "w_0 &   0 & \\ldots & 0 \\\\\n",
    "  0 & w_1 & \\ldots & 0 \\\\\n",
    "   &  & \\ddots  & \\\\\n",
    "  0 &   0 & \\ldots & w_q \\\\\n",
    "\\end{array}\n",
    "\\right)\n",
    "\\left(\n",
    "\\begin{array}{c c c c}\n",
    "l_0(x_0) & l_1(x_0) & \\ldots & l_n(x_0) \\\\\n",
    "l_0(x_1) & l_1(x_1) & \\ldots & l_n(x_1) \\\\\n",
    " & & \\ddots  & \\\\\n",
    "l_0(x_q) & l_1(x_q) & \\ldots & l_n(x_q) \\\\\n",
    "\\end{array}\n",
    "\\right)\n",
    "$$"
   ]
  },
  {
   "cell_type": "code",
   "execution_count": 17,
   "metadata": {
    "collapsed": false
   },
   "outputs": [
    {
     "name": "stdout",
     "output_type": "stream",
     "text": [
      "(5, 5)\n",
      "[[  6.57727883e-01   2.20631033e-02  -8.88178420e-16  -6.61878610e-03\n",
      "   -3.23726701e-02]\n",
      " [  6.07692695e-01   1.05879718e+00   1.77635684e-15   3.92223408e-02\n",
      "    1.75534108e-01]\n",
      " [ -4.08582015e-01  -1.13463840e-01   1.00000000e+00  -1.13463840e-01\n",
      "   -4.08582015e-01]\n",
      " [  1.75534108e-01   3.92223408e-02   4.44089210e-16   1.05879718e+00\n",
      "    6.07692695e-01]\n",
      " [ -3.23726701e-02  -6.61878610e-03  -2.22044605e-16   2.20631033e-02\n",
      "    6.57727883e-01]]\n",
      "5\n",
      "14.1390607069\n"
     ]
    },
    {
     "data": {
      "image/png": "[encoded data removed]",
      "text/plain": [
       "<matplotlib.figure.Figure at 0x10f4e5f10>"
      ]
     },
     "metadata": {},
     "output_type": "display_data"
    }
   ],
   "source": [
    "print(B.shape)\n",
    "_ = pl.plot(B.T)\n",
    "M = B.dot(W.dot(B.T))\n",
    "print np.linalg.matrix_rank(M)\n",
    "print np.linalg.cond(M)"
   ]
  },
  {
   "cell_type": "code",
   "execution_count": 18,
   "metadata": {
    "collapsed": true
   },
   "outputs": [],
   "source": [
    "def step_function():\n",
    "    def sf(x):    \n",
    "        index = where((x>.3) & (x<.7))\n",
    "        step = zeros(x.shape)\n",
    "        step[index] = 1\n",
    "        return step\n",
    "    return lambda x : sf(x)"
   ]
  },
  {
   "cell_type": "markdown",
   "metadata": {},
   "source": [
    "$$\n",
    "B\\, W\\, f = \n",
    "\\left(\n",
    "\\begin{array}{c c c c}\n",
    "l_0(x_0) & l_0(x_1) & \\ldots & l_0(x_q) \\\\\n",
    "l_1(x_0) & l_1(x_1) & \\ldots & l_1(x_q) \\\\\n",
    " & \\ldots & \\ldots  & \\\\\n",
    "l_n(x_0) & l_n(x_1) & \\ldots & l_n(x_q) \\\\\n",
    "\\end{array}\n",
    "\\right)\n",
    "\\left(\n",
    "\\begin{array}{c c c c}\n",
    "w_0 &   0 & \\ldots & 0 \\\\\n",
    "  0 & w_1 & \\ldots & 0 \\\\\n",
    "   & \\ldots & \\ldots  & \\\\\n",
    "  0 &   0 & \\ldots & w_q \\\\\n",
    "\\end{array}\n",
    "\\right)\n",
    "\\left(\n",
    "\\begin{array}{c}\n",
    "f(x_0) \\\\\n",
    "f(x_1) \\\\\n",
    "\\vdots\\\\\n",
    "f(x_q) \\\\\n",
    "\\end{array}\n",
    "\\right)\n",
    "$$"
   ]
  },
  {
   "cell_type": "code",
   "execution_count": 19,
   "metadata": {
    "collapsed": false
   },
   "outputs": [
    {
     "name": "stdout",
     "output_type": "stream",
     "text": [
      "(5, 1)\n",
      "(5, 5)\n",
      "(5, 5)\n"
     ]
    }
   ],
   "source": [
    "g = lambda x: np.sin(2*np.pi*x)\n",
    "#g = step_function()\n",
    "p = p.reshape((p.shape[0],1))\n",
    "\n",
    "G = g(p)\n",
    "print G.shape\n",
    "print B.shape\n",
    "print W.shape\n",
    "G = B.dot(W.dot(G))"
   ]
  },
  {
   "cell_type": "code",
   "execution_count": 20,
   "metadata": {
    "collapsed": false
   },
   "outputs": [
    {
     "name": "stdout",
     "output_type": "stream",
     "text": [
      "[[ -1.92161045e-01]\n",
      " [  9.79052672e-01]\n",
      " [ -1.35712301e-15]\n",
      " [ -9.79052672e-01]\n",
      " [  1.92161045e-01]]\n"
     ]
    }
   ],
   "source": [
    "u = np.linalg.solve(M, G)\n",
    "print u"
   ]
  },
  {
   "cell_type": "code",
   "execution_count": 21,
   "metadata": {
    "collapsed": true
   },
   "outputs": [],
   "source": [
    "def get_interpolating_function(LL,ui):\n",
    "    def func(LL,ui,x):\n",
    "        acc = 0\n",
    "        for L,u in zip(LL,ui):\n",
    "            #print(L,u)\n",
    "            acc+=u*L(x)\n",
    "        return acc\n",
    "    return lambda x : func(LL,ui,x)"
   ]
  },
  {
   "cell_type": "code",
   "execution_count": 22,
   "metadata": {
    "collapsed": false
   },
   "outputs": [
    {
     "data": {
      "image/png": "[encoded data removed]",
      "text/plain": [
       "<matplotlib.figure.Figure at 0x10f5c1290>"
      ]
     },
     "metadata": {},
     "output_type": "display_data"
    }
   ],
   "source": [
    "I = get_interpolating_function(L,u)\n",
    "sampling = np.linspace(0,1,101)\n",
    "_= pl.plot(sampling, I(sampling))\n",
    "#plot(xp, G,'ro')"
   ]
  },
  {
   "cell_type": "markdown",
   "metadata": {},
   "source": [
    "## Diference in between projection and interpolation runge example \n",
    "\n",
    "Proiezione usando polinomi LEGENDRE (f,v_i) con quadratura con 18 punti\n",
    "\n",
    "Interpolazione usando polinomi LAGRANGE (sui punti di quadratura che sono i punti di gauss della funzione sopra)"
   ]
  },
  {
   "cell_type": "code",
   "execution_count": null,
   "metadata": {
    "collapsed": true
   },
   "outputs": [],
   "source": []
  }
 ],
 "metadata": {
  "anaconda-cloud": {},
  "kernelspec": {
   "display_name": "Python 2",
   "language": "python",
   "name": "python2"
  },
  "language_info": {
   "codemirror_mode": {
    "name": "ipython",
    "version": 2
   },
   "file_extension": ".py",
   "mimetype": "text/x-python",
   "name": "python",
   "nbconvert_exporter": "python",
   "pygments_lexer": "ipython2",
   "version": "2.7.11"
  }
 },
 "nbformat": 4,
 "nbformat_minor": 0
}
