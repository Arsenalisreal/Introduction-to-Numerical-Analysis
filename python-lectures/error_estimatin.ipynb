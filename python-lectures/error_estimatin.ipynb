{
 "cells": [
  {
   "cell_type": "code",
   "execution_count": 1,
   "metadata": {
    "collapsed": true
   },
   "outputs": [],
   "source": [
    "%matplotlib inline\n",
    "import numpy as np\n",
    "import matplotlib.pyplot as plt\n",
    "import numpy.polynomial.polynomial as poly"
   ]
  },
  {
   "cell_type": "markdown",
   "metadata": {},
   "source": [
    "Constructing a function $f(x)$"
   ]
  },
  {
   "cell_type": "code",
   "execution_count": 2,
   "metadata": {
    "collapsed": false
   },
   "outputs": [
    {
     "name": "stdout",
     "output_type": "stream",
     "text": [
      "16\n"
     ]
    }
   ],
   "source": [
    "f = lambda x : x**2\n",
    "print f(4)"
   ]
  },
  {
   "cell_type": "markdown",
   "metadata": {},
   "source": [
    "Construct the dual $f^*$ of $f$."
   ]
  },
  {
   "cell_type": "code",
   "execution_count": 3,
   "metadata": {
    "collapsed": false
   },
   "outputs": [
    {
     "name": "stdout",
     "output_type": "stream",
     "text": [
      "16.0\n"
     ]
    }
   ],
   "source": [
    "x = lambda f: f(4.)\n",
    "g = lambda x: x**2\n",
    "print x(g)"
   ]
  },
  {
   "cell_type": "code",
   "execution_count": null,
   "metadata": {
    "collapsed": true
   },
   "outputs": [],
   "source": []
  },
  {
   "cell_type": "markdown",
   "metadata": {},
   "source": [
    "Construct a set of this special points, that given a function return a value, we call this set $\\hat N$ (the **set of nodal functions**, that are a basis for the dual space of $\\hat{\\mathcal{P}}^k([0,1])$). "
   ]
  },
  {
   "cell_type": "code",
   "execution_count": 4,
   "metadata": {
    "collapsed": true
   },
   "outputs": [],
   "source": [
    "def construct_dual_basis():\n",
    "    N = []\n",
    "    N.append(lambda f: f(0.))\n",
    "    #N.append(lambda f: f(1./3))\n",
    "    #N.append(lambda f: f(.5))\n",
    "    #N.append(lambda f: f(2./3))\n",
    "    N.append(lambda f: f(1.))\n",
    "    return N"
   ]
  },
  {
   "cell_type": "code",
   "execution_count": 5,
   "metadata": {
    "collapsed": false
   },
   "outputs": [
    {
     "name": "stdout",
     "output_type": "stream",
     "text": [
      "[<function <lambda> at 0x1061b8de8>, <function <lambda> at 0x1061ce140>]\n",
      "0.0\n",
      "1.0\n"
     ]
    }
   ],
   "source": [
    "p = lambda p : p(0)\n",
    "f = lambda x : x\n",
    "\n",
    "Nk = construct_dual_basis()\n",
    "\n",
    "print Nk\n",
    "print Nk[0](f)\n",
    "print Nk[1](f)"
   ]
  },
  {
   "cell_type": "markdown",
   "metadata": {},
   "source": [
    "$\\mathcal{P}^k([0,1]) = \\textrm{span}\\{e_i\\}_{i=0}^k =: \\textrm{span} E$\n",
    "As we are free to choose our polinomials, we pick them in their simplest possible form, monomials:\n",
    "$$\n",
    "e_i = \\mathrm{pow}(x,i)\n",
    "$$"
   ]
  },
  {
   "cell_type": "code",
   "execution_count": 6,
   "metadata": {
    "collapsed": true
   },
   "outputs": [],
   "source": [
    "def construct_poly(deg):\n",
    "    E = []\n",
    "    for i in range(deg+1):\n",
    "        c = np.zeros((i+1,))\n",
    "        c[-1] = 1\n",
    "        E.append(poly.Polynomial(c))\n",
    "    return E"
   ]
  },
  {
   "cell_type": "code",
   "execution_count": 7,
   "metadata": {
    "collapsed": true
   },
   "outputs": [],
   "source": [
    "deg = 1"
   ]
  },
  {
   "cell_type": "code",
   "execution_count": 8,
   "metadata": {
    "collapsed": false
   },
   "outputs": [
    {
     "name": "stdout",
     "output_type": "stream",
     "text": [
      "[Polynomial([ 1.], [-1,  1], [-1,  1]), Polynomial([ 0.,  1.], [-1,  1], [-1,  1])]\n"
     ]
    }
   ],
   "source": [
    "Tk = np.array([0,1])\n",
    "Nk = construct_dual_basis()\n",
    "Pk = construct_poly(deg)\n",
    "print Pk"
   ]
  },
  {
   "cell_type": "markdown",
   "metadata": {},
   "source": [
    "We construct basis functions $v_i$ asking them to be those particular polynomials orthogonal to the degrees of freedom $v^j$. In a compact way this means:\n",
    "\n",
    "$$\n",
    "v^j\\, v_i = \\delta^j_i\n",
    "$$\n",
    "\n",
    "$v^j$ are a special kind of points that given a function the do return a value. We can write this value for the $k$-th polynomial:\n",
    "\n",
    "$v^j(e_k)$, and introduce the matrix $C_k^j$. This matrix clarifies the way canonical basis functions are related with the degrees of freedom:\n",
    "\n",
    "\n",
    "$$\n",
    "v^j\\, v_i = \\delta^j_i, \\quad v^j(e_k)\\, v^k_i = \\delta^j_i, \\quad C^j_k\\, v^k_i = \\delta^j_i\n",
    "$$\n",
    "\n",
    "Reading the last formula we get an easy way to construct the basis functions:\n",
    "\n",
    "$$\n",
    "v^k_i = (C^j_k)^{-1}\\delta^j_i\n",
    "$$\n",
    "\n",
    "In practice these $v^k_i$ are the cofficents for the polynomials that are going to become the basis for our space.  "
   ]
  },
  {
   "cell_type": "code",
   "execution_count": 9,
   "metadata": {
    "collapsed": false
   },
   "outputs": [],
   "source": [
    "def construct_cij(N,P):\n",
    "    C = np.zeros((0, len(P)))  # N are the degrees of freedom\n",
    "    for dof in N:\n",
    "        row = np.array([])\n",
    "        for p in P:\n",
    "            row = np.hstack((row,dof(p))) # horizontan append\n",
    "        C = np.vstack((C,row))\n",
    "    return C"
   ]
  },
  {
   "cell_type": "code",
   "execution_count": 10,
   "metadata": {
    "collapsed": false
   },
   "outputs": [
    {
     "name": "stdout",
     "output_type": "stream",
     "text": [
      "[[ 1.  0.]\n",
      " [ 1.  1.]]\n"
     ]
    }
   ],
   "source": [
    "C = construct_cij(Nk,Pk)\n",
    "print C"
   ]
  },
  {
   "cell_type": "code",
   "execution_count": 11,
   "metadata": {
    "collapsed": true
   },
   "outputs": [],
   "source": [
    "def construct_canonical_basis(C):\n",
    "    V = []\n",
    "    for k in range(C.shape[0]):\n",
    "        delta_ij = np.zeros((C.shape[0],))\n",
    "        delta_ij[k] = 1.\n",
    "        vk = np.linalg.solve(C, delta_ij)\n",
    "        V.append(poly.Polynomial(vk))\n",
    "    return V"
   ]
  },
  {
   "cell_type": "code",
   "execution_count": 12,
   "metadata": {
    "collapsed": false
   },
   "outputs": [
    {
     "data": {
      "image/png": "[encoded data removed]",
      "text/plain": [
       "<matplotlib.figure.Figure at 0x104405e50>"
      ]
     },
     "metadata": {},
     "output_type": "display_data"
    }
   ],
   "source": [
    "C = construct_cij(Nk,Pk)\n",
    "\n",
    "V = construct_canonical_basis(C)\n",
    "\n",
    "s = np.linspace(0,1,1025)\n",
    "for v in V:\n",
    "    plt.plot(s, v(s))\n",
    "plt.show()"
   ]
  },
  {
   "cell_type": "code",
   "execution_count": 13,
   "metadata": {
    "collapsed": true
   },
   "outputs": [],
   "source": [
    "from numpy.polynomial.legendre import leggauss\n",
    "\n",
    "def apply_matrx_bc(A):\n",
    "    ck = A[0,0]\n",
    "    A[0] = 0\n",
    "    A[0,0] = ck\n",
    "    \n",
    "    ck = A[-1,-1]\n",
    "    A[-1] = 0\n",
    "    A[-1,-1] = ck\n",
    "    \n",
    "def apply_rhs_bc(rhs):\n",
    "    rhs[0] = 0\n",
    "    rhs[-1] = 0\n",
    "\n",
    "def assemble_system(x,V,myf):\n",
    "    \n",
    "    h = 1./(len(x)-1)\n",
    "\n",
    "    degree = 2*len(V)-1\n",
    "    q,w = leggauss(degree) # Gauss between -1 and 1\n",
    "    q = (q+1)/2 # Go back to 0,1 \n",
    "    w = w/2\n",
    "    \n",
    "    Vq = np.zeros((len(V), len(q)))\n",
    "    Vpq = np.zeros((len(V), len(q)))\n",
    "\n",
    "    for i in range(len(V)):\n",
    "        Vq[i] = V[i](q)  # evaluate at the quadrature points\n",
    "        Vpq[i] = V[i].deriv()(q)\n",
    "\n",
    "    n_dofs = (len(x)-1)*(len(V)-1)+1\n",
    "\n",
    "    A = np.zeros((n_dofs, n_dofs))\n",
    "    M = np.zeros((n_dofs, n_dofs))\n",
    "    rhs = np.zeros((n_dofs,))\n",
    "\n",
    "    # Construct the local matrix only once:\n",
    "    local_A = np.einsum('jq, iq, q -> ij', Vpq/h, Vpq/h, w*h)\n",
    "    local_M = np.einsum('jq, iq, q -> ij', Vq, Vq, w*h)\n",
    "\n",
    "    for i in range(len(x)-1):\n",
    "        start = i*(len(V)-1)\n",
    "        end = start+len(V)\n",
    "\n",
    "        index = range(start, end)\n",
    "        A[np.ix_(index, index)] += local_A\n",
    "        M[np.ix_(index, index)] += local_M\n",
    "\n",
    "        # The transformation of the quadrature points\n",
    "        xq = x[i]+h*q\n",
    "        local_rhs = np.einsum('iq, q, q -> i', Vq, w*h, myf(xq))\n",
    "\n",
    "        rhs[index] += local_rhs\n",
    "\n",
    "    # Fix the boundary conditions\n",
    "    apply_matrx_bc(A)\n",
    "    apply_matrx_bc(M)\n",
    "    apply_rhs_bc(rhs)\n",
    "    #ck = A[0,0]\n",
    "    #A[0] = 0\n",
    "    #A[0,0] = ck\n",
    "    #rhs[0] = 0\n",
    "\n",
    "    \n",
    "    #ck = A[-1,-1]\n",
    "    #A[-1] = 0\n",
    "    #A[-1,-1] = ck\n",
    "    #rhs[-1] = 0        \n",
    "\n",
    "    return A,M,rhs"
   ]
  },
  {
   "cell_type": "code",
   "execution_count": 24,
   "metadata": {
    "collapsed": true
   },
   "outputs": [],
   "source": [
    "def evaluate_l2_error(x,V,u,exact_sol):\n",
    "    h = 1./(len(x)-1)\n",
    "\n",
    "    degree = 2*len(V)-1\n",
    "    q,w = leggauss(degree) # Gauss between -1 and 1\n",
    "    q = (q+1)/2 # Go back to 0,1 \n",
    "    w = w/2\n",
    "    \n",
    "    Vq = np.zeros((len(V), len(q)))\n",
    "    Vpq = np.zeros((len(V), len(q)))\n",
    "\n",
    "    for i in range(len(V)):\n",
    "        Vq[i] = V[i](q)  # evaluate at the quadrature points\n",
    "        Vpq[i] = V[i].deriv()(q)\n",
    "        \n",
    "    error = 0.\n",
    "    \n",
    "    for i in range(len(x) - 1):\n",
    "        start = i*(len(V) - 1)\n",
    "        end = start + len(V)\n",
    "        \n",
    "        index = range(start, end)\n",
    "        print index\n",
    "        xq = x[i] + q*h\n",
    "        \n",
    "        fem_sol = np.einsum('j, jq ->q', u[index],Vq)\n",
    "        an_sol = exact_sol[xq]\n",
    "        \n",
    "        error += np.sum((fem_sol - an_sol)**2.*w)\n",
    "        \n",
    "        print fem_sol\n",
    "        print an_sol\n",
    "        \n",
    "\n",
    "    print np.sqrt(error)\n"
   ]
  },
  {
   "cell_type": "code",
   "execution_count": 25,
   "metadata": {
    "collapsed": false
   },
   "outputs": [],
   "source": [
    "import sympy as sym\n",
    "\n",
    "t = sym.var('t')\n",
    "sol = t**2*(1-t)\n",
    "force_a = -1*sym.diff(sol,t,2)"
   ]
  },
  {
   "cell_type": "code",
   "execution_count": 26,
   "metadata": {
    "collapsed": false
   },
   "outputs": [
    {
     "name": "stdout",
     "output_type": "stream",
     "text": [
      "[0, 1]\n"
     ]
    },
    {
     "ename": "TypeError",
     "evalue": "'function' object has no attribute '__getitem__'",
     "output_type": "error",
     "traceback": [
      "\u001b[0;31m---------------------------------------------------------------------------\u001b[0m",
      "\u001b[0;31mTypeError\u001b[0m                                 Traceback (most recent call last)",
      "\u001b[0;32m<ipython-input-26-fc129ce76170>\u001b[0m in \u001b[0;36m<module>\u001b[0;34m()\u001b[0m\n\u001b[1;32m     14\u001b[0m     \u001b[0mufem\u001b[0m \u001b[0;34m=\u001b[0m \u001b[0mnp\u001b[0m\u001b[0;34m.\u001b[0m\u001b[0mlinalg\u001b[0m\u001b[0;34m.\u001b[0m\u001b[0msolve\u001b[0m\u001b[0;34m(\u001b[0m\u001b[0mA\u001b[0m\u001b[0;34m,\u001b[0m\u001b[0mrhs\u001b[0m\u001b[0;34m)\u001b[0m\u001b[0;34m\u001b[0m\u001b[0m\n\u001b[1;32m     15\u001b[0m \u001b[0;34m\u001b[0m\u001b[0m\n\u001b[0;32m---> 16\u001b[0;31m     \u001b[0;32mprint\u001b[0m \u001b[0mevaluate_l2_error\u001b[0m\u001b[0;34m(\u001b[0m\u001b[0mx\u001b[0m\u001b[0;34m,\u001b[0m\u001b[0mV\u001b[0m\u001b[0;34m,\u001b[0m\u001b[0mufem\u001b[0m\u001b[0;34m,\u001b[0m\u001b[0msol_n\u001b[0m\u001b[0;34m)\u001b[0m\u001b[0;34m\u001b[0m\u001b[0m\n\u001b[0m",
      "\u001b[0;32m<ipython-input-24-1c2cf74566fe>\u001b[0m in \u001b[0;36mevaluate_l2_error\u001b[0;34m(x, V, u, exact_sol)\u001b[0m\n\u001b[1;32m     25\u001b[0m \u001b[0;34m\u001b[0m\u001b[0m\n\u001b[1;32m     26\u001b[0m         \u001b[0mfem_sol\u001b[0m \u001b[0;34m=\u001b[0m \u001b[0mnp\u001b[0m\u001b[0;34m.\u001b[0m\u001b[0meinsum\u001b[0m\u001b[0;34m(\u001b[0m\u001b[0;34m'j, jq ->q'\u001b[0m\u001b[0;34m,\u001b[0m \u001b[0mu\u001b[0m\u001b[0;34m[\u001b[0m\u001b[0mindex\u001b[0m\u001b[0;34m]\u001b[0m\u001b[0;34m,\u001b[0m\u001b[0mVq\u001b[0m\u001b[0;34m)\u001b[0m\u001b[0;34m\u001b[0m\u001b[0m\n\u001b[0;32m---> 27\u001b[0;31m         \u001b[0man_sol\u001b[0m \u001b[0;34m=\u001b[0m \u001b[0mexact_sol\u001b[0m\u001b[0;34m[\u001b[0m\u001b[0mxq\u001b[0m\u001b[0;34m]\u001b[0m\u001b[0;34m\u001b[0m\u001b[0m\n\u001b[0m\u001b[1;32m     28\u001b[0m \u001b[0;34m\u001b[0m\u001b[0m\n\u001b[1;32m     29\u001b[0m         \u001b[0merror\u001b[0m \u001b[0;34m+=\u001b[0m \u001b[0mnp\u001b[0m\u001b[0;34m.\u001b[0m\u001b[0msum\u001b[0m\u001b[0;34m(\u001b[0m\u001b[0;34m(\u001b[0m\u001b[0mfem_sol\u001b[0m \u001b[0;34m-\u001b[0m \u001b[0man_sol\u001b[0m\u001b[0;34m)\u001b[0m\u001b[0;34m**\u001b[0m\u001b[0;36m2.\u001b[0m\u001b[0;34m*\u001b[0m\u001b[0mw\u001b[0m\u001b[0;34m)\u001b[0m\u001b[0;34m\u001b[0m\u001b[0m\n",
      "\u001b[0;31mTypeError\u001b[0m: 'function' object has no attribute '__getitem__'"
     ]
    }
   ],
   "source": [
    "n = 9.\n",
    "\n",
    "for n in np.arange(2,4):\n",
    "    \n",
    "    n = n**2 +1\n",
    "\n",
    "    x = np.linspace(0,1,n)\n",
    "\n",
    "    force = sym.lambdify(t,force_a,\"numpy\")\n",
    "    sol_n = sym.lambdify(t,sol,\"numpy\")\n",
    "\n",
    "    A,M,rhs = assemble_system(x,V,force)\n",
    "\n",
    "    ufem = np.linalg.solve(A,rhs)\n",
    "\n",
    "    print evaluate_l2_error(x,V,ufem,sol_n)"
   ]
  },
  {
   "cell_type": "code",
   "execution_count": 16,
   "metadata": {
    "collapsed": false
   },
   "outputs": [
    {
     "data": {
      "text/plain": [
       "1.63733964"
      ]
     },
     "execution_count": 16,
     "metadata": {},
     "output_type": "execute_result"
    }
   ],
   "source": [
    "1.63733964"
   ]
  },
  {
   "cell_type": "code",
   "execution_count": 45,
   "metadata": {
    "collapsed": true
   },
   "outputs": [],
   "source": [
    "def interpolation_matrix(s, x, V):\n",
    "    \"\"\"\n",
    "    Given the evaluation points s in the mesh x, construct the interpolation matrix \n",
    "    according to the local basis V.\n",
    "    \"\"\"\n",
    "    n_dofs = (len(x)-1)*(len(V)-1)+1\n",
    "\n",
    "    M = np.zeros((n_dofs, len(s)))\n",
    "    for i in range(len(x)-1):\n",
    "        index = s>=x[i]\n",
    "        index *= s<=x[i+1]\n",
    "        \n",
    "        # Transform the points to [0,1]\n",
    "        xi = (s[index]-x[i])/(x[i+1]-x[i])\n",
    "        \n",
    "        for j in range(len(V)):\n",
    "            k = i*(len(v)-1)+j\n",
    "            M[k,index] = V[j](xi)\n",
    "    return M"
   ]
  },
  {
   "cell_type": "code",
   "execution_count": 46,
   "metadata": {
    "collapsed": false
   },
   "outputs": [
    {
     "name": "stdout",
     "output_type": "stream",
     "text": [
      "('Error at the s points:', 0.9815019392862474)\n",
      "('Error at the x points:', 0.9814453125)\n"
     ]
    },
    {
     "data": {
      "image/png": "[encoded data removed]",
      "text/plain": [
       "<matplotlib.figure.Figure at 0x10635cd50>"
      ]
     },
     "metadata": {},
     "output_type": "display_data"
    }
   ],
   "source": [
    "s = np.linspace(0,1,1025)\n",
    "us = np.sin(2*np.pi*s)\n",
    "ux = np.sin(2*np.pi*x)\n",
    "\n",
    "# Use this to plot high resolution versions\n",
    "M = interpolation_matrix(s,x,V)\n",
    "\n",
    "# Use this to compute errors at the mesh points\n",
    "Mx = interpolation_matrix(x,x,V)\n",
    "\n",
    "plt.plot(s, M.T.dot(ufem))\n",
    "plt.plot(s, us)\n",
    "plt.plot(x, ux,'ro')\n",
    "\n",
    "print(\"Error at the s points:\", (M.T.dot(ufem)-us).max())\n",
    "print(\"Error at the x points:\", (Mx.T.dot(ufem)-ux).max())"
   ]
  },
  {
   "cell_type": "code",
   "execution_count": null,
   "metadata": {
    "collapsed": false
   },
   "outputs": [],
   "source": []
  },
  {
   "cell_type": "code",
   "execution_count": null,
   "metadata": {
    "collapsed": false
   },
   "outputs": [],
   "source": []
  },
  {
   "cell_type": "code",
   "execution_count": null,
   "metadata": {
    "collapsed": true
   },
   "outputs": [],
   "source": []
  }
 ],
 "metadata": {
  "kernelspec": {
   "display_name": "Python 2",
   "language": "python",
   "name": "python2"
  },
  "language_info": {
   "codemirror_mode": {
    "name": "ipython",
    "version": 2
   },
   "file_extension": ".py",
   "mimetype": "text/x-python",
   "name": "python",
   "nbconvert_exporter": "python",
   "pygments_lexer": "ipython2",
   "version": "2.7.11"
  }
 },
 "nbformat": 4,
 "nbformat_minor": 0
}
