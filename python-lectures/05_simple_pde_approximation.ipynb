{
 "cells": [
  {
   "cell_type": "markdown",
   "metadata": {},
   "source": [
    "# Prototypical problem\n",
    "\n",
    "$$\n",
    "-u_h''(x) = f(x)\\ \\mathrm{ in }\\ [0,1]\n",
    "$$\n",
    "\n",
    "$$\n",
    "u_h(0) = 0, \\quad u_h(1) = 0\n",
    "$$\n",
    "\n",
    "We start by considering a uniform discretisation of the interval $[0,1]$ using $n$ equispaced *sample points* (to construct first a **Finite Difference Approximation**)."
   ]
  },
  {
   "cell_type": "code",
   "execution_count": 84,
   "metadata": {
    "collapsed": false
   },
   "outputs": [],
   "source": [
    "%matplotlib inline\n",
    "from numpy import *\n",
    "from matplotlib.pyplot import *\n",
    "\n",
    "n = 9\n",
    "h = 1./(n-1)\n",
    "\n",
    "x=linspace(0,1,n)"
   ]
  },
  {
   "cell_type": "markdown",
   "metadata": {},
   "source": [
    "# Central finite difference approximation\n",
    "\n",
    "We consider the approximation\n",
    "\n",
    "$$\n",
    "-u''_i := \\frac{-u_{i-1} + 2u_i - u_{i+1}}{h^2}\n",
    "$$\n",
    "\n",
    "and solve the linear system\n",
    "\n",
    "$$\n",
    "\\frac{-u_{i-1} + 2u_i - u_{i+1}}{h^2} = f_i \\qquad i=1,\\ldots,n-2\n",
    "$$\n",
    "\n",
    "This results in a tridiagonal matrix with $n-2$ entries. We assemble all of the entries anyway, and then perform a **line elimination** to make the system solvable. This is typical of problems with **Dirichlet Boundary conditions**."
   ]
  },
  {
   "cell_type": "code",
   "execution_count": 85,
   "metadata": {
    "collapsed": false,
    "scrolled": true
   },
   "outputs": [
    {
     "name": "stdout",
     "output_type": "stream",
     "text": [
      "[[ 2. -1.  0.  0.  0.  0.  0.  0.  0.]\n",
      " [-1.  2. -1.  0.  0.  0.  0.  0.  0.]\n",
      " [ 0. -1.  2. -1.  0.  0.  0.  0.  0.]\n",
      " [ 0.  0. -1.  2. -1.  0.  0.  0.  0.]\n",
      " [ 0.  0.  0. -1.  2. -1.  0.  0.  0.]\n",
      " [ 0.  0.  0.  0. -1.  2. -1.  0.  0.]\n",
      " [ 0.  0.  0.  0.  0. -1.  2. -1.  0.]\n",
      " [ 0.  0.  0.  0.  0.  0. -1.  2. -1.]\n",
      " [ 0.  0.  0.  0.  0.  0.  0. -1.  2.]]\n",
      "39.8634581891\n"
     ]
    }
   ],
   "source": [
    "a = -ones((n-1,)) # Offdiagonal entries\n",
    "b = 2*ones((n,)) # Diagonal entries\n",
    "A = (diag(a, -1) + diag(b, 0) + diag(a, +1))\n",
    "print(A)\n",
    "\n",
    "# Now we scale it to 1/h^2\n",
    "A /= h**2\n",
    "print(linalg.cond(A))"
   ]
  },
  {
   "cell_type": "markdown",
   "metadata": {},
   "source": [
    "Now let's consider a simple right hand side:\n",
    "\n",
    "$$\n",
    "f_i = 4\\pi^2 \\sin(2\\pi x_i)\n",
    "$$\n",
    "\n",
    "With this right hand side, the exact solution is given by \n",
    "\n",
    "$$\n",
    "u = \\sin(2\\pi x)\n",
    "$$\n",
    "\n",
    "Let's see what error we make, by approximating the second derivative using central finite difference:"
   ]
  },
  {
   "cell_type": "code",
   "execution_count": 86,
   "metadata": {
    "collapsed": false,
    "scrolled": true
   },
   "outputs": [
    {
     "data": {
      "text/plain": [
       "[<matplotlib.lines.Line2D at 0x106631750>]"
      ]
     },
     "execution_count": 86,
     "metadata": {},
     "output_type": "execute_result"
    },
    {
     "data": {
      "image/png": "[encoded data removed]",
      "text/plain": [
       "<matplotlib.figure.Figure at 0x106631710>"
      ]
     },
     "metadata": {},
     "output_type": "display_data"
    }
   ],
   "source": [
    "f = 4*pi**2*sin(2*pi*x)\n",
    "u = linalg.solve(A, f)\n",
    "uex = sin(2*pi*x)\n",
    "\n",
    "plot(x,u,'ro')\n",
    "plot(x,uex)"
   ]
  },
  {
   "cell_type": "markdown",
   "metadata": {},
   "source": [
    "We see that there is a large error at the boundary points. This is due to boundary conditions, which are not taken into account in this case. Consider the even simpler case, where $f=1$ everywhere. The exact solution in this case is given by \n",
    "\n",
    "$$\n",
    "u = \\frac{x(1-x)}{2}\n",
    "$$"
   ]
  },
  {
   "cell_type": "code",
   "execution_count": 87,
   "metadata": {
    "collapsed": false
   },
   "outputs": [
    {
     "data": {
      "text/plain": [
       "[<matplotlib.lines.Line2D at 0x108fd9a90>]"
      ]
     },
     "execution_count": 87,
     "metadata": {},
     "output_type": "execute_result"
    },
    {
     "data": {
      "image/png": "[encoded data removed]",
      "text/plain": [
       "<matplotlib.figure.Figure at 0x108d207d0>"
      ]
     },
     "metadata": {},
     "output_type": "display_data"
    }
   ],
   "source": [
    "f1 = ones_like(x)\n",
    "u1 = linalg.solve(A, f1)\n",
    "\n",
    "u1ex = x*(1-x)/2\n",
    "\n",
    "plot(x,u1,'ro')\n",
    "plot(x, u1ex)"
   ]
  },
  {
   "cell_type": "markdown",
   "metadata": {},
   "source": [
    "What is happening here, is that the matrix A is solving a different problem: one where the considered points are all internals, and the domain where we are solving the homogeneous laplace problem is actually $[-h,1+h]$...\n",
    "\n",
    "To get better results, we need to impose the boundary conditions on the first and last point. How do we do this? One possibility is to replace the first and last line of the matrix (corresponding to the equation that we want to be satisfied for u at x=0 and x=1) and replace it with the boundary condition:"
   ]
  },
  {
   "cell_type": "code",
   "execution_count": 88,
   "metadata": {
    "collapsed": false,
    "scrolled": true
   },
   "outputs": [
    {
     "name": "stdout",
     "output_type": "stream",
     "text": [
      "('Error without bc:', 0.59568332000917779)\n",
      "('Error with    bc:', 0.053029287545511838)\n"
     ]
    },
    {
     "data": {
      "image/png": "[encoded data removed]",
      "text/plain": [
       "<matplotlib.figure.Figure at 0x108d20190>"
      ]
     },
     "metadata": {},
     "output_type": "display_data"
    }
   ],
   "source": [
    "# Keep a copy of the matrix around, to compare the results\n",
    "A1 = A.copy()\n",
    "\n",
    "# Put a one on the diagonal in the first and last lines\n",
    "A1[0,:] = 0\n",
    "A1[0,0] = 1\n",
    "\n",
    "A1[-1,:] = 0\n",
    "A1[-1,-1] = 1\n",
    "\n",
    "# Set to zero (the boundary condition) the right hand side corresponding to the first and last points\n",
    "f2 = f.copy()\n",
    "f[0] = 0\n",
    "f[-1] = 0\n",
    "\n",
    "u2 = linalg.solve(A1, f2)\n",
    "\n",
    "plot(x,u2,'ro')\n",
    "plot(x,u, 'bx')\n",
    "plot(x,uex)\n",
    "\n",
    "print(\"Error without bc:\", (u-uex).max())\n",
    "print(\"Error with    bc:\", (u2-uex).max())"
   ]
  },
  {
   "cell_type": "markdown",
   "metadata": {},
   "source": [
    "Much better results are obtained in the case of the quadratic problem too...."
   ]
  },
  {
   "cell_type": "code",
   "execution_count": 89,
   "metadata": {
    "collapsed": false,
    "scrolled": true
   },
   "outputs": [
    {
     "name": "stdout",
     "output_type": "stream",
     "text": [
      "('Error without bc:', 0.0703125)\n",
      "('Error with    bc:', -0.0)\n"
     ]
    },
    {
     "data": {
      "image/png": "[encoded data removed]",
      "text/plain": [
       "<matplotlib.figure.Figure at 0x1088af210>"
      ]
     },
     "metadata": {},
     "output_type": "display_data"
    }
   ],
   "source": [
    "f3 = f1.copy()\n",
    "f3[0]  = 0\n",
    "f3[-1] = 0\n",
    "\n",
    "u3 = linalg.solve(A1, f3)\n",
    "\n",
    "plot(x,u1,'ro')\n",
    "plot(x,u3, 'bx')\n",
    "plot(x,u1ex)\n",
    "\n",
    "print(\"Error without bc:\", (u1-u1ex).max())\n",
    "print(\"Error with    bc:\", (u3-u1ex).max())"
   ]
  },
  {
   "cell_type": "markdown",
   "metadata": {},
   "source": [
    "In this case, we observe that the error for the quadratic function is exactly zero. This is expected, since we are approximating by finite differences a function which is quadratic, and the algorithm we wrote is exact for quadratic functions, i.e., for functions where the second derivative is a constant.\n",
    "\n",
    "Now try to compute the **rate** of the error for the first case of the **sinusoidal** forcing term, by performing the above steps in a cycle and increasing the number of points in powers of two, i.e., for h=1/2, 1/4, 1/8, 1/32, 1/64, 1/128, etc. and plot the $L^\\infty$ error of the solution at the sample points VS the sampling space h."
   ]
  },
  {
   "cell_type": "code",
   "execution_count": 7,
   "metadata": {
    "collapsed": true
   },
   "outputs": [],
   "source": [
    "# YOUR CODE HERE"
   ]
  },
  {
   "cell_type": "markdown",
   "metadata": {},
   "source": [
    "# Finite element formulation\n",
    "\n",
    "Find $u_h(x) :=  u^i v_i(x)$ s.t.\n",
    "\n",
    "$$\n",
    "-u_h''(x) = f(x)\\ \\mathrm{ in }\\ [0,1]\n",
    "$$\n",
    "\n",
    "$$\n",
    "u_h(0) = 0, \\quad u_h(1) = 0\n",
    "$$\n",
    "\n",
    "# Weak Form\n",
    "\n",
    "Given $V_h := \\mathrm{span}\\{\\phi_i(x)\\}_{i=0}^{n-1}$.\n",
    "Find $u_h(x) \\in V_h$ s.t.\n",
    "\n",
    "$$\n",
    "\\int_{0}^1 u_h'\\, \\phi_i' = \\int_0^1 f(x)\\, \\phi_i, \\quad i = 0,\\ldots, n-1\n",
    "$$\n",
    "\n",
    "$$\n",
    "\\int_{0}^1 u_h'\\, \\phi_i' = \\left(\\int_{0}^1 \\phi_j'\\, \\phi_i'\\right)\\, u^j \n",
    "$$\n",
    "\n",
    "This results in the following matrix:\n",
    "\n",
    "$$\n",
    "A_{ij} = \\left(\\int_{0}^1 \\phi_j'\\, \\phi_i'\\right)\n",
    "$$\n",
    "\n",
    "In order to perform this integration, we use some quadrature rules, chosen so that the product above is integrated exactly.\n",
    "\n",
    "We do things in a slightly more general way this time, i.e, we start by defining the **Local Finite Element Space** of order $k$, defined using $\\hat T := [0,1]$ (the **reference element**), $\\hat{\\mathcal{P}}^k([0,1])$ (the **local polynomial space**), and $\\hat N$ (the **set of nodal functions**, that are a basis for the dual space of $\\hat{\\mathcal{P}}^k([0,1])$). \n",
    "\n",
    "We define everything in a very general way, so that we can extend it to high order polynomials (or two dimensions) in no time.\n",
    "\n",
    "The basis functions, $V = \\{v_i\\}_{i=0}^{n-1}$, are defined implicitly, imposing orthogonality with $N := \\{v^i\\}_{i=0}^{n-1}$, i.e., $v^j(v_i) = \\delta^j_i$.\n",
    "\n",
    "In order for this to work, we need to first start from a known basis for $\\mathcal{P}^k([0,1]) = \\textrm{span}\\{e_i\\}_{i=0}^k =: \\textrm{span} E$, and re-write our basis $V$ in terms of $E$.\n",
    "\n",
    "$$\n",
    "e_i = pow(x,i), \\qquad v_i = v_i^k e_k \\qquad v^j(v_i) = v^j(e_k) v^k_i \n",
    "$$\n",
    "\n",
    "For each basis function $v_i$, we need to solve a system of equations in the $n$ unkonwns $v_i^k$ (free index $k$). Once this is done, we have our new polynomial basis functions (the **canonical basis** with respect to $N$):\n",
    "\n",
    "$$\n",
    "v^j(e_k) v^k_i  = C^j_k v^k_i = \\delta^j_i \\qquad i = 0, \\ldots, n-1\n",
    "$$"
   ]
  },
  {
   "cell_type": "code",
   "execution_count": 78,
   "metadata": {
    "collapsed": false,
    "scrolled": true
   },
   "outputs": [
    {
     "data": {
      "image/png": "[encoded data removed]",
      "text/plain": [
       "<matplotlib.figure.Figure at 0x108fa3410>"
      ]
     },
     "metadata": {},
     "output_type": "display_data"
    }
   ],
   "source": [
    "from numpy.polynomial.polynomial import *\n",
    "\n",
    "# Start by defining the local dual basis functions. These are linear functions on polynomials with\n",
    "# values in R.\n",
    "N = []\n",
    "\n",
    "N.append(lambda f: f(0))  # Evaluation of f at x = 0\n",
    "\n",
    "# For quadratic\n",
    "#N.append(lambda f: f(.5)) # Evaluation of f at x = .5 \n",
    "\n",
    "# For cubic\n",
    "N.append(lambda f: f(1./3.))\n",
    "#N.append(lambda f: f(2./3.))\n",
    "\n",
    "N.append(lambda f: f(1))  # Evaluation of f at x = 1\n",
    "\n",
    "# Dimension of the polynomial space\n",
    "n = len(N) \n",
    "\n",
    "# Construct the local space V, as the set of polynomials of order len(N)-1 such that the \n",
    "# dual basis above, evaluated on the basis, gives the identity matrix. We start by defining \n",
    "# monomials, so that we can use numpy Polynomial package\n",
    "E = []\n",
    "for i in range(len(N)):\n",
    "    c = zeros((i+1,))\n",
    "    c[-1] = 1\n",
    "    E.append(Polynomial(c)) # Now E[i] contains the monomial x^i\n",
    "\n",
    "show()\n",
    "# Construct the actual basis in terms of monomials,\n",
    "# By solving for each basis a change of coordinate system\n",
    "C = zeros((n,n)) # Matrix for the change of variables\n",
    "for i in range(n):\n",
    "    for j in range(n):\n",
    "        C[i,j] = N[i](E[j])\n",
    "\n",
    "# Auxiliary space to plot the result\n",
    "s = linspace(0,1,1025)\n",
    "V = []\n",
    "for k in range(n):\n",
    "    ei = zeros((n,))\n",
    "    ei[k] = 1. # delta_ik\n",
    "    vk = linalg.solve(C, ei)\n",
    "    V.append(Polynomial(vk)) # Construct the basis using the right coefficients of the polynomials\n",
    "    plot(s, V[k](s))"
   ]
  },
  {
   "cell_type": "markdown",
   "metadata": {},
   "source": [
    "Now we have our local basis functions, constructed using **exclusively** the definition of the **Finite Element**, i.e., a reference element ([0,1]), a polynomial space, and a basis for the dual of the polynomial space."
   ]
  },
  {
   "cell_type": "markdown",
   "metadata": {},
   "source": [
    "# Coordinate transformations on each element\n",
    "\n",
    "Let's now split the integral on $[0,1]$ as an integral on $[x_i, x_{i+1}]$:\n",
    "\n",
    "$$\n",
    "\\int_0^1 f(x) dx = \\sum_{i=0}^{n-1} \\int_{x_i}^{x_{i+1}} f(x) dx = \\sum_{i=0}^{n-1} \\int_0^1 f(T_i(\\xi)) |T_i'(\\xi)| d\\xi  \\qquad T_i(\\xi) = x_i +(x_{i+1}-x_i) \\xi = x_i +h \\xi \n",
    "$$\n",
    "\n",
    "Where the transformation $T_i(\\xi)$ is used to perform all integrals on the same interval.\n",
    "\n",
    "In general the integral on $[0,1]$ is performed using quadrature rules, i.e.,\n",
    "\n",
    "$$\n",
    "\\int_0^1 g(\\xi) d\\xi = \\sum_{q=0}^{nq} g(\\xi_q) w_q\n",
    "$$\n",
    "\n",
    "Once we have **local basis functions**, they are transformed to **global basis functions** by the following relation:\n",
    "\n",
    "$$\n",
    "\\phi_{k(i,m)}(T_i(\\xi)) := v_m(\\xi)\n",
    "$$\n",
    "\n",
    "similarly for the derivatives:\n",
    "\n",
    "$$\n",
    "\\phi'_{k(i,m)}(T_i(\\xi)) := v'_m(\\xi) T'_i(\\xi)^{-1} = \\frac{v'_m(\\xi)}{h}, \\qquad m = 0, \\ldots, len(N)-1,\n",
    "$$\n",
    "\n",
    "giving the following final system for the **Finite Element Assembly**:\n",
    "\n",
    "$$\n",
    "A_{ij} = \\int_0^1 \\phi'_i(x)\\phi_j'(x) dx = \\sum_{\\ell=0}^{n-1} \\sum_{q=0}^{nq} \\frac{v'_{m(i,\\ell)}(\\xi_q)}{h}\\frac{v'_{n(j,\\ell)}(\\xi_q)}{h} h w_q \\qquad \\text{ if } \\mathrm{supp}\\{ \\phi_j \\}\\cap \\mathrm{supp}  \\{\\phi_i \\}\\neq \\emptyset\n",
    "$$\n",
    "\n",
    "\n",
    "That is, global basis functions are obtained by the **push forward** through $T_i$ of local basis functions. The local basis functions and their derivatives can be evaluated once and for all at the quadrature points, and then assembled globally by recognizing where the local degree of freedom maps in the global numbering (i.e., the mapping of $m$ and $n$ to $i$ and $j$ in the equation above). This mapping is usually evaluated the other way around, i.e., from local to global instead of from global to local.\n",
    "\n",
    "Notice that the mapping of the local degrees of freedom to the global degrees of freedom, and the structure of the local basis functions is what decides wether globally $\\phi_i$ are continuous.\n",
    "\n",
    "For the one dimensional case, if the dual basis contains the Dirac delta distribution centered at the two extremes of the reference interval (as in the example above), then the Finite Element may be continuous or not, according to how the global numbering depends on the local numbering: if the **numbering** of the first global degree of freedom of an element coincides with the numbering of the last global degree of freedom of the previous element, then we obtain a continuous finite element space, otherwise we obtain a discontinuous one.\n",
    "\n",
    "Let's explore this concept. We first define a quadrature formula on the reference interval $[0,1]$, so that integrating a product of basis functions, we get exact integrals."
   ]
  },
  {
   "cell_type": "code",
   "execution_count": 79,
   "metadata": {
    "collapsed": false
   },
   "outputs": [
    {
     "name": "stdout",
     "output_type": "stream",
     "text": [
      "[ 0.04691008  0.23076534  0.5         0.76923466  0.95308992]\n"
     ]
    }
   ],
   "source": [
    "from numpy.polynomial.legendre import leggauss\n",
    "\n",
    "degree = 2*len(N)-1\n",
    "q,w = leggauss(degree) # Gauss between -1 and 1\n",
    "q = (q+1)/2 # Go back to 0,1 \n",
    "w = w/2\n",
    "\n",
    "print(q)"
   ]
  },
  {
   "cell_type": "markdown",
   "metadata": {},
   "source": [
    "Now we evaluate all local basis functions and all derivatives of the basis functions at the quadrature points."
   ]
  },
  {
   "cell_type": "code",
   "execution_count": 80,
   "metadata": {
    "collapsed": false
   },
   "outputs": [],
   "source": [
    "Vq = zeros((len(N), len(q)))\n",
    "Vpq = zeros((len(N), len(q)))\n",
    "\n",
    "for i in range(len(N)):\n",
    "    Vq[i] = V[i](q)\n",
    "    Vpq[i] = V[i].deriv()(q)"
   ]
  },
  {
   "cell_type": "markdown",
   "metadata": {},
   "source": [
    "For each element, we know that there are `len(N)` local basis functions. The first and the last are shared by the previous and the following element if we want to impose continuity, therefore the global numbering, in each element, is simply given by `range(i*(len(N)-1), i*(len(N)-1)+len(N))`, and the total number of degrees of freedom is given by `(len(x)-1)*(len(N)-1)+1`.\n",
    "\n",
    "If we wanted discontinous elements, then there would simply be a total of `(len(x)-1)*len(N)` basis functions, with global indices given by `range(i*len(N), (i+1)*len(N))`."
   ]
  },
  {
   "cell_type": "code",
   "execution_count": 81,
   "metadata": {
    "collapsed": false
   },
   "outputs": [],
   "source": [
    "n_dofs = (len(x)-1)*(len(N)-1)+1\n",
    "\n",
    "A2 = zeros((n_dofs, n_dofs))\n",
    "rhs = zeros((n_dofs,))\n",
    "\n",
    "myf = lambda x: 4*pi**2*sin(2*pi*x)\n",
    "\n",
    "# Construct the local matrix only once:\n",
    "local_A = einsum('jq, iq, q -> ij', Vpq/h, Vpq/h, w*h)\n",
    "\n",
    "for i in range(len(x)-1):\n",
    "    start = i*(len(N)-1)\n",
    "    end = start+len(N)\n",
    "    \n",
    "    index = range(start, end)\n",
    "    A2[ix_(index, index)] += local_A\n",
    "    \n",
    "    # The transformation of the quadrature points\n",
    "    xq = x[i]+h*q\n",
    "    local_rhs = einsum('iq, q, q -> i', Vq, w*h, myf(xq))\n",
    "    \n",
    "    rhs[index] += local_rhs\n",
    "\n",
    "# Fix the boundary conditions\n",
    "A2[0] = 0\n",
    "A2[0,0] = 1\n",
    "rhs[0] = 0\n",
    "\n",
    "A2[-1] = 0\n",
    "A2[-1,-1] = 1\n",
    "rhs[-1] = 0\n",
    "\n",
    "# Solve the system\n",
    "ufem = linalg.solve(A2, rhs)"
   ]
  },
  {
   "cell_type": "markdown",
   "metadata": {},
   "source": [
    "How do we know if we did a good job?\n",
    "\n",
    "We write an interpolation matrix, that returns the function evaluated at the given points, once the coefficients are known, i.e.: \n",
    "\n",
    "$$\n",
    "I_ij = \\phi_i(x_j)\n",
    "$$\n",
    "\n",
    "The problem with this interpolation matrix, is that we don't know how to recover the global basis function $\\phi_i$ at arbitrary points. We need to run over all intervals, construct the evaluation of the local function, and put it in the right spot in the global matrix:"
   ]
  },
  {
   "cell_type": "code",
   "execution_count": 82,
   "metadata": {
    "collapsed": false
   },
   "outputs": [],
   "source": [
    "def interpolation_matrix(s, x, V):\n",
    "    \"\"\"\n",
    "    Given the evaluation points s in the mesh x, construct the interpolation matrix \n",
    "    according to the local basis V.\n",
    "    \"\"\"\n",
    "    n_dofs = (len(x)-1)*(len(V)-1)+1\n",
    "\n",
    "    M = zeros((n_dofs, len(s)))\n",
    "    for i in range(len(x)-1):\n",
    "        index = s>=x[i]\n",
    "        index *= s<=x[i+1]\n",
    "        \n",
    "        # Transform the points to [0,1]\n",
    "        xi = (s[index]-x[i])/(x[i+1]-x[i])\n",
    "        \n",
    "        for j in range(len(V)):\n",
    "            k = i*(len(N)-1)+j\n",
    "            M[k,index] = V[j](xi)\n",
    "    return M"
   ]
  },
  {
   "cell_type": "markdown",
   "metadata": {},
   "source": [
    "Now that we have the interpolation matrix, we can construct the Finite Element Interpolant"
   ]
  },
  {
   "cell_type": "code",
   "execution_count": 83,
   "metadata": {
    "collapsed": false
   },
   "outputs": [
    {
     "name": "stdout",
     "output_type": "stream",
     "text": [
      "('Error at the s points:', 0.01549819452247031)\n",
      "('Error at the x points:', 3.5619063254443972e-11)\n"
     ]
    },
    {
     "data": {
      "image/png": "[encoded data removed]",
      "text/plain": [
       "<matplotlib.figure.Figure at 0x108f35dd0>"
      ]
     },
     "metadata": {},
     "output_type": "display_data"
    }
   ],
   "source": [
    "s = linspace(0,1,1025)\n",
    "us = sin(2*pi*s)\n",
    "ux = sin(2*pi*x)\n",
    "\n",
    "# Use this to plot high resolution versions\n",
    "M = interpolation_matrix(s,x,V)\n",
    "\n",
    "# Use this to compute errors at the mesh points\n",
    "Mx = interpolation_matrix(x,x,V)\n",
    "\n",
    "plot(s, M.T.dot(ufem))\n",
    "plot(s, us)\n",
    "plot(x, ux,'ro')\n",
    "\n",
    "print(\"Error at the s points:\", (M.T.dot(ufem)-us).max())\n",
    "print(\"Error at the x points:\", (Mx.T.dot(ufem)-ux).max())"
   ]
  },
  {
   "cell_type": "markdown",
   "metadata": {},
   "source": [
    "The Matrix is always assembled **exactly**. What happens if we improve the quadrature formula for the right hand side?\n",
    "\n",
    "Try assemblying again the right hand side using a better quadrature formula, and compute the error **at the mesh points** when increasing the accuracy of the integration on the right hand side (remember: for linear functions, the matrix is the same as the finite difference matrix. The only difference can then come from the right hand side)."
   ]
  },
  {
   "cell_type": "code",
   "execution_count": 14,
   "metadata": {
    "collapsed": true
   },
   "outputs": [],
   "source": [
    "# YOUR CODE HERE"
   ]
  }
 ],
 "metadata": {
  "anaconda-cloud": {},
  "kernelspec": {
   "display_name": "Python 2",
   "language": "python",
   "name": "python2"
  },
  "language_info": {
   "codemirror_mode": {
    "name": "ipython",
    "version": 2
   },
   "file_extension": ".py",
   "mimetype": "text/x-python",
   "name": "python",
   "nbconvert_exporter": "python",
   "pygments_lexer": "ipython2",
   "version": "2.7.11"
  }
 },
 "nbformat": 4,
 "nbformat_minor": 1
}
