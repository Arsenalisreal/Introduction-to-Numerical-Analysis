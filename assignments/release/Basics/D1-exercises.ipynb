{
 "cells": [
  {
   "cell_type": "markdown",
   "metadata": {
    "deletable": false,
    "nbgrader": {
     "checksum": "9f233eb32b3773049e805057c9cafee7",
     "grade": false,
     "grade_id": "random_desc",
     "locked": true,
     "solution": false
    }
   },
   "source": [
    "# Pure Python evaluation of vector norms\n",
    "\n",
    "Generate a list of random floats of a given dimension (dim), and store its result in the variable `vec`."
   ]
  },
  {
   "cell_type": "code",
   "execution_count": 2,
   "metadata": {
    "collapsed": false,
    "deletable": false,
    "nbgrader": {
     "checksum": "b1ed817404c5a21f9dcf7f89748a0c8d",
     "grade": false,
     "grade_id": "random",
     "locked": false,
     "solution": true
    }
   },
   "outputs": [
    {
     "name": "stdout",
     "output_type": "stream",
     "text": [
      "Populating the interactive namespace from numpy and matplotlib\n",
      "[0.0543250428587474, 0.33402058754563124, 0.5313128836624442, 0.1767222249357543, 0.8660703498062583, 0.5045897598750726, 0.3782341121939894, 0.49360567303710634, 0.7899105850351386, 0.7383514293993781]\n"
     ]
    },
    {
     "name": "stderr",
     "output_type": "stream",
     "text": [
      "WARNING: pylab import has clobbered these variables: ['rand']\n",
      "`%matplotlib` prevents importing * from pylab and numpy\n"
     ]
    }
   ],
   "source": [
    "# This is used for plots and numpy\n",
    "%pylab inline \n",
    "\n",
    "import random as rand\n",
    "dim = int(10)\n",
    "\n",
    "vec = []\n",
    "for i in range(dim):\n",
    "    elem = rand.random()\n",
    "    vec.append(elem)\n",
    "\n",
    "print vec\n",
    "\n",
    "# YOUR CODE HERE\n",
    "#raise NotImplementedError()"
   ]
  },
  {
   "cell_type": "code",
   "execution_count": 3,
   "metadata": {
    "collapsed": false,
    "deletable": false,
    "nbgrader": {
     "checksum": "223c15c7276b82fe757f18357a42b7a2",
     "grade": true,
     "grade_id": "random_check",
     "locked": true,
     "points": 3,
     "solution": false
    }
   },
   "outputs": [],
   "source": [
    "from numpy.testing import *\n",
    "\n",
    "assert_equal(type(vec), list)\n",
    "assert_equal(len(vec), dim)\n",
    "for ob in vec:\n",
    "    assert_equal(type(ob), float)"
   ]
  },
  {
   "cell_type": "markdown",
   "metadata": {
    "deletable": false,
    "nbgrader": {
     "checksum": "51a82e789d9ec00a9660d9e01a93ac95",
     "grade": false,
     "grade_id": "norm-desc",
     "locked": true,
     "solution": false
    }
   },
   "source": [
    "Write a function that evaluates the $l_p$ norm of a vector in $R^d$. We remind:\n",
    "$$\n",
    "\\|v \\|_{p} := \\left(\\sum_i (v_i)^p\\right)^{1/p}\n",
    "$$\n",
    "\n",
    "the function should take as arguments a `list`, containing your $R^d$ vector, and a number `p` in the range $[1, \\infty]$, indicating the exponent of the norm. \n",
    "\n",
    "**Note:** an infinite float number is given by `float(\"inf\")`.\n",
    "\n",
    "Throw an assertion (look it up on google!) if the exponent is not in the range you expect."
   ]
  },
  {
   "cell_type": "code",
   "execution_count": 4,
   "metadata": {
    "collapsed": false,
    "deletable": false,
    "nbgrader": {
     "checksum": "00a224e6d87bdf9db02149ceb7103a50",
     "grade": false,
     "grade_id": "norm",
     "locked": false,
     "solution": true
    }
   },
   "outputs": [],
   "source": [
    "def p_norm(vector,p):\n",
    "    assert(p >= 1)\n",
    "    abs_vec = map(abs,vector)     # returns the abs of every elem of the list: max(abs(i) for i in ll) \n",
    "    if p != float(\"inf\"):\n",
    "        sum_tmp = sum( elem**float(p) for elem in abs_vec)\n",
    "        sum_tmp = pow(sum_tmp, 1/float(p))\n",
    "    else:\n",
    "        sum_tmp = max(abs_vec)\n",
    "    return sum_tmp\n",
    "\n",
    "#print p_norm(vec,2)\n",
    "#print p_norm(vec, \"inf\")\n"
   ]
  },
  {
   "cell_type": "code",
   "execution_count": 5,
   "metadata": {
    "collapsed": false,
    "deletable": false,
    "nbgrader": {
     "checksum": "b5d2b6748279174b783a902b0b03f5f0",
     "grade": true,
     "grade_id": "norm-check-1",
     "locked": true,
     "points": 1,
     "solution": false
    }
   },
   "outputs": [],
   "source": [
    "assert_equal(p_norm(range(10),1), 45.0)\n",
    "assert_equal(p_norm([3,4], 2), 5.0)"
   ]
  },
  {
   "cell_type": "code",
   "execution_count": 6,
   "metadata": {
    "collapsed": true,
    "deletable": false,
    "nbgrader": {
     "checksum": "ce79af156d645e12269d9f5d3a6d2e36",
     "grade": true,
     "grade_id": "norm-check-2",
     "locked": true,
     "points": 1,
     "solution": false
    }
   },
   "outputs": [],
   "source": [
    "assert_equal(p_norm([-1,-.5,.5], float(\"inf\")), 1)"
   ]
  },
  {
   "cell_type": "code",
   "execution_count": 7,
   "metadata": {
    "collapsed": false,
    "deletable": false,
    "nbgrader": {
     "checksum": "bdf0947f5e6d0b4be27d2eda93dc27dd",
     "grade": true,
     "grade_id": "norm-check-3",
     "locked": true,
     "points": 1,
     "solution": false
    }
   },
   "outputs": [],
   "source": [
    "assert_raises(AssertionError, p_norm, [2,3], 0)\n",
    "assert_raises(AssertionError, p_norm, [2,3], -1)"
   ]
  },
  {
   "cell_type": "markdown",
   "metadata": {
    "deletable": false,
    "nbgrader": {
     "checksum": "c79fcf0a64e458c15f5949bbaf39a44e",
     "grade": false,
     "grade_id": "fd-desc",
     "locked": true,
     "solution": false
    }
   },
   "source": [
    "# Playing with condition numbers\n",
    "\n",
    "\n",
    "In this exercise you will have to figure out what are the optimal\n",
    "values of the stepping interval when approximating derivatives using\n",
    "the finite difference method. See here_ for a short introduction on\n",
    "how to run these programs on SISSA machines.\n",
    "\n",
    "## 1. Finite differences\n",
    "Write a program to compute the finite difference (`FD`)\n",
    "approximation of the derivative of a function `f`, computed at\n",
    "point `x`, using a stepping of size `h`. Recall the definition of\n",
    "approximate derivative:\n",
    "\n",
    "$$\n",
    "FD(f,x,h) := \\frac{f(x+h)-f(x)}{h}\n",
    "$$"
   ]
  },
  {
   "cell_type": "code",
   "execution_count": 8,
   "metadata": {
    "collapsed": false,
    "deletable": false,
    "nbgrader": {
     "checksum": "76e4488d27cc346f6ac53d1a145aad17",
     "grade": false,
     "grade_id": "fd",
     "locked": false,
     "solution": true
    }
   },
   "outputs": [],
   "source": [
    "def FD(f, x, h):\n",
    "    return (f(x + h) - f(x))/float(h)"
   ]
  },
  {
   "cell_type": "code",
   "execution_count": 9,
   "metadata": {
    "collapsed": false,
    "deletable": false,
    "nbgrader": {
     "checksum": "f9924babcbbb399825ad6f2087bc795b",
     "grade": true,
     "grade_id": "fd-check-1",
     "locked": true,
     "points": 1,
     "solution": false
    }
   },
   "outputs": [],
   "source": [
    "assert_equal(FD(lambda x: x, 0, .125), 1.0)"
   ]
  },
  {
   "cell_type": "markdown",
   "metadata": {
    "deletable": false,
    "nbgrader": {
     "checksum": "2c98afc1a075f16ab23e206a827dc233",
     "grade": false,
     "grade_id": "fd2-desc",
     "locked": true,
     "solution": false
    }
   },
   "source": [
    "## 2. Compute FD\n",
    "\n",
    "Evaluate this function for the derivative of `sin(x)` evaluated at `x=1`, for values of `h` equal to `1e-i`, with `i=0,...,20`. Store the values of the finite differences in the list `fd1`."
   ]
  },
  {
   "cell_type": "code",
   "execution_count": 10,
   "metadata": {
    "collapsed": false,
    "deletable": false,
    "nbgrader": {
     "checksum": "b4dcf56a59887d4319b2cb98ffa98976",
     "grade": false,
     "grade_id": "fd2",
     "locked": false,
     "points": 1,
     "solution": true
    }
   },
   "outputs": [
    {
     "name": "stdout",
     "output_type": "stream",
     "text": [
      "[0.067826442017785205, 0.49736375253538911, 0.53608598101186899, 0.5398814803603269, 0.54026023141862112, 0.54029809850586474, 0.54030188512133037, 0.54030226404044868, 0.54030229179602429, 0.54030235840940577, 0.54030224738710331, 0.54030113716407868, 0.54034554608506369, 0.53956838996782608, 0.53290705182007514, 0.55511151231257827, 0.0, 0.0, 0.0, 0.0, 0.0]\n"
     ]
    }
   ],
   "source": [
    "fd1 = []\n",
    "for i in range(21):\n",
    "    value_der = FD(sin, 1, pow(10,-i))\n",
    "    fd1.append(value_der)\n",
    "\n",
    "print fd1\n",
    "    \n",
    "    "
   ]
  },
  {
   "cell_type": "code",
   "execution_count": 11,
   "metadata": {
    "collapsed": false,
    "deletable": false,
    "nbgrader": {
     "checksum": "182c007dceec8bf65659546a6c28a59f",
     "grade": true,
     "grade_id": "fd2-check1",
     "locked": true,
     "points": 1,
     "solution": false
    }
   },
   "outputs": [],
   "source": [
    "assert_equal(len(fd1), 21)\n",
    "expected = [0.067826442017785205, 0.49736375253538911, 0.53608598101186899, 0.5398814803603269, 0.54026023141862112, 0.54029809850586474, 0.54030188512133037, 0.54030226404044868, 0.54030229179602429, 0.54030235840940577, 0.54030224738710331, 0.54030113716407868, 0.54034554608506369, 0.53956838996782608, 0.53290705182007514, 0.55511151231257827, 0.0, 0.0, 0.0, 0.0, 0.0]\n",
    "assert_almost_equal(fd1,expected,decimal=4)"
   ]
  },
  {
   "cell_type": "markdown",
   "metadata": {
    "deletable": false,
    "nbgrader": {
     "checksum": "4e46ca6958c6f03f3a259490f4d9844d",
     "grade": false,
     "grade_id": "fd3-desc",
     "locked": true,
     "solution": false
    }
   },
   "source": [
    "## 3. Error plots\n",
    "\n",
    "Plot the error, defined as `abs(FD-cos(1.0))` where `FD` is your approximation, in `loglog` format and explain what you see. A good way to emphasize the result is to give the option `'-o'` to the plot command."
   ]
  },
  {
   "cell_type": "code",
   "execution_count": 12,
   "metadata": {
    "collapsed": false,
    "deletable": false,
    "nbgrader": {
     "checksum": "58f3d772034530fae4f1394fd9ac9065",
     "grade": true,
     "grade_id": "fd3",
     "locked": false,
     "points": 1,
     "solution": true
    }
   },
   "outputs": [
    {
     "data": {
      "image/png": "[encoded data removed]",
      "text/plain": [
       "<matplotlib.figure.Figure at 0x104537690>"
      ]
     },
     "metadata": {},
     "output_type": "display_data"
    }
   ],
   "source": [
    "error = []\n",
    "for i in range(21):\n",
    "    error_der = abs(FD(sin, 1, pow(10,-i)) - cos(1))\n",
    "    error.append(error_der)\n",
    "\n",
    "h = [pow(10,-i) for i in range(21)]\n",
    "\n",
    "#figure(figsize=[10,10])\n",
    "#_ = loglog(h, error)\n",
    "\n",
    "figure(figsize=[5,5])\n",
    "plt.loglog(h,error, \"-o\")\n",
    "plt.show()\n",
    "\n"
   ]
  },
  {
   "cell_type": "markdown",
   "metadata": {
    "deletable": false,
    "nbgrader": {
     "checksum": "0f366e5b02bb5272ce93a6f24ef607a0",
     "grade": true,
     "grade_id": "fd3-comment",
     "locked": false,
     "points": 5,
     "solution": true
    }
   },
   "source": [
    "YOUR ANSWER HERE"
   ]
  },
  {
   "cell_type": "markdown",
   "metadata": {
    "deletable": false,
    "nbgrader": {
     "checksum": "6105b9c6350f6856a194da4d139b3794",
     "grade": false,
     "grade_id": "fd-base2-desc",
     "locked": true,
     "solution": false
    }
   },
   "source": [
    "## 4. Error plots base 2\n",
    "Repeate step 2 and 3 above, but using powers of `2` instead of powers of `10`, i.e., using `h` equal to `2**(-i)` for `i=1,...,60`. Do you see differences? How do you explain these differences? Shortly comment.  A good way to emphasize the result is to give the option `'-o'` to the plot command."
   ]
  },
  {
   "cell_type": "code",
   "execution_count": 13,
   "metadata": {
    "collapsed": false
   },
   "outputs": [
    {
     "data": {
      "image/png": "[encoded data removed]",
      "text/plain": [
       "<matplotlib.figure.Figure at 0x104515f50>"
      ]
     },
     "metadata": {},
     "output_type": "display_data"
    }
   ],
   "source": [
    "error = []\n",
    "for i in range(61):\n",
    "    error_der = abs(FD(sin, 1, pow(2,-i)) - cos(1))\n",
    "    error.append(error_der)\n",
    "\n",
    "h = [pow(2,-i) for i in range(61)]\n",
    "\n",
    "#figure(figsize=[10,10])\n",
    "#_ = loglog(h, error)\n",
    "\n",
    "figure(figsize=[5,5])\n",
    "plt.loglog(h,error, \"-o\")\n",
    "plt.show()"
   ]
  },
  {
   "cell_type": "markdown",
   "metadata": {
    "collapsed": false,
    "deletable": false,
    "nbgrader": {
     "checksum": "673e9b7faebb995a403a6a1e9ea76f47",
     "grade": true,
     "grade_id": "fd-base2",
     "locked": false,
     "points": 1,
     "solution": true
    }
   },
   "source": [
    "YOUR ANSWER HERE"
   ]
  },
  {
   "cell_type": "markdown",
   "metadata": {
    "deletable": false,
    "nbgrader": {
     "checksum": "42758fc5eb31ceb960921a409325d936",
     "grade": true,
     "grade_id": "fd-base2-comment",
     "locked": false,
     "points": 5,
     "solution": true
    }
   },
   "source": [
    "YOUR ANSWER HERE"
   ]
  },
  {
   "cell_type": "markdown",
   "metadata": {
    "deletable": false,
    "nbgrader": {
     "checksum": "7f0300838939fb3637561d2da88d79dd",
     "grade": false,
     "grade_id": "cfd-desc",
     "locked": true,
     "solution": false
    }
   },
   "source": [
    "## 5. Central Finite Differences\n",
    "Write a function that computes the central finite difference approximation (`CFD`), defined as \n",
    "\n",
    "$$\n",
    "CFD(f,x,h) := \\frac{f(x+h)-f(x-h)}{2h}\n",
    "$$\n"
   ]
  },
  {
   "cell_type": "code",
   "execution_count": 14,
   "metadata": {
    "collapsed": true,
    "deletable": false,
    "nbgrader": {
     "checksum": "d5de503bdfc25f777473402d07a89211",
     "grade": false,
     "grade_id": "cfd",
     "locked": false,
     "solution": true
    }
   },
   "outputs": [],
   "source": [
    "def CFD(f, x, h):\n",
    "    return (f(x + h) - f(x - h))/(2*float(h))"
   ]
  },
  {
   "cell_type": "code",
   "execution_count": 15,
   "metadata": {
    "collapsed": false,
    "deletable": false,
    "nbgrader": {
     "checksum": "2851b0f40a3773162f52614524b25963",
     "grade": true,
     "grade_id": "cfd-check",
     "locked": true,
     "points": 1,
     "solution": false
    }
   },
   "outputs": [],
   "source": [
    "assert_equal(CFD(lambda x: x**2, 0.0, .5), 0.0)\n",
    "assert_equal(CFD(lambda x: x**2, 1.0, .5), 2.0)"
   ]
  },
  {
   "cell_type": "markdown",
   "metadata": {
    "deletable": false,
    "nbgrader": {
     "checksum": "0da2440c559f1c3ee4c746c498914b48",
     "grade": false,
     "grade_id": "cfd2-desc",
     "locked": true,
     "solution": false
    }
   },
   "source": [
    "## 6. Error plots for CFD\n",
    "\n",
    "Repeat steps 2., 3. and 4. and explain what you see. What is the *order* of the approximation 1. and what is the order of the approximation 5.? What's the order of the cancellation errors? "
   ]
  },
  {
   "cell_type": "code",
   "execution_count": 16,
   "metadata": {
    "collapsed": false,
    "deletable": false,
    "nbgrader": {
     "checksum": "cb123e54409262ac79e1fb86fdb478f1",
     "grade": true,
     "grade_id": "cfd2-plots",
     "locked": false,
     "points": 2,
     "solution": true
    }
   },
   "outputs": [
    {
     "data": {
      "image/png": "[encoded data removed]",
      "text/plain": [
       "<matplotlib.figure.Figure at 0x106b70650>"
      ]
     },
     "metadata": {},
     "output_type": "display_data"
    }
   ],
   "source": [
    "error = []\n",
    "for i in range(21):\n",
    "    error_der = abs(CFD(sin, 1, pow(10,-i)) - cos(1))\n",
    "    error.append(error_der)\n",
    "\n",
    "h = [pow(10,-i) for i in range(21)]\n",
    "\n",
    "#figure(figsize=[10,10])\n",
    "#_ = loglog(h, error)\n",
    "\n",
    "figure(figsize=[5,5])\n",
    "plt.loglog(h,error, \"-o\")\n",
    "plt.show()"
   ]
  },
  {
   "cell_type": "code",
   "execution_count": 17,
   "metadata": {
    "collapsed": false
   },
   "outputs": [
    {
     "data": {
      "image/png": "[encoded data removed]",
      "text/plain": [
       "<matplotlib.figure.Figure at 0x106b50110>"
      ]
     },
     "metadata": {},
     "output_type": "display_data"
    }
   ],
   "source": [
    "error = []\n",
    "for i in range(61):\n",
    "    error_der = abs(CFD(sin, 1, pow(2,-i)) - cos(1))\n",
    "    error.append(error_der)\n",
    "\n",
    "h = [pow(2,-i) for i in range(61)]\n",
    "\n",
    "#figure(figsize=[10,10])\n",
    "#_ = loglog(h, error)\n",
    "\n",
    "figure(figsize=[5,5])\n",
    "plt.loglog(h,error, \"-o\")\n",
    "plt.show()"
   ]
  },
  {
   "cell_type": "markdown",
   "metadata": {
    "deletable": false,
    "nbgrader": {
     "checksum": "f90479827a3e6e2a1062164895849b6d",
     "grade": true,
     "grade_id": "cfd2-plots-comment",
     "locked": false,
     "points": 5,
     "solution": true
    }
   },
   "source": [
    "YOUR ANSWER HERE"
   ]
  },
  {
   "cell_type": "markdown",
   "metadata": {
    "deletable": false,
    "nbgrader": {
     "checksum": "10bc99f084a9050397f0c1f708565964",
     "grade": false,
     "grade_id": "array-desc",
     "locked": true,
     "solution": false
    }
   },
   "source": [
    "# Numpy\n",
    "\n",
    "Numpy provides a very powerful array container. The first line of this ipython notebook has imported all of numpy functionalities in your notebook, just as if you typed::\n",
    "\n",
    "    from numpy import *\n",
    "    \n",
    "Create a numpy array whith entries that range form 0 to 64. Use the correct numpy function to do so. Call it `x`. "
   ]
  },
  {
   "cell_type": "code",
   "execution_count": 18,
   "metadata": {
    "collapsed": false,
    "deletable": false,
    "nbgrader": {
     "checksum": "6550f75e6ff7e6ce91a8be32deafc301",
     "grade": false,
     "grade_id": "array",
     "locked": false,
     "solution": true
    }
   },
   "outputs": [],
   "source": [
    "x = np.array([k for k in range(64)])"
   ]
  },
  {
   "cell_type": "code",
   "execution_count": 19,
   "metadata": {
    "collapsed": false,
    "deletable": false,
    "nbgrader": {
     "checksum": "8faab133eca46158c2547fa7b0967542",
     "grade": true,
     "grade_id": "array-check",
     "locked": true,
     "points": 1,
     "solution": false
    }
   },
   "outputs": [],
   "source": [
    "assert_equal(type(x), ndarray)\n",
    "assert_equal(len(x), 64)\n",
    "for i in xrange(64):\n",
    "    assert_equal(x[i], float(i))"
   ]
  },
  {
   "cell_type": "markdown",
   "metadata": {
    "deletable": false,
    "nbgrader": {
     "checksum": "4cd4b51907f835b495ddbf7dbaa51712",
     "grade": false,
     "grade_id": "array2-desc",
     "locked": true,
     "solution": false
    }
   },
   "source": [
    "Reshape the one dimensional array, to become a 4 rows 2 dimensional array, let numpy evaluate the correct number of culumns. Call it `y`."
   ]
  },
  {
   "cell_type": "code",
   "execution_count": 20,
   "metadata": {
    "collapsed": false,
    "deletable": false,
    "nbgrader": {
     "checksum": "5f4fd1f167cb5329adf97b2ec8419aeb",
     "grade": false,
     "grade_id": "array2",
     "locked": false,
     "solution": true
    }
   },
   "outputs": [
    {
     "name": "stdout",
     "output_type": "stream",
     "text": [
      "[[ 0  1  2  3  4  5  6  7  8  9 10 11 12 13 14 15]\n",
      " [16 17 18 19 20 21 22 23 24 25 26 27 28 29 30 31]\n",
      " [32 33 34 35 36 37 38 39 40 41 42 43 44 45 46 47]\n",
      " [48 49 50 51 52 53 54 55 56 57 58 59 60 61 62 63]]\n"
     ]
    }
   ],
   "source": [
    "y = np.reshape(x,(4,16))\n",
    "print y\n"
   ]
  },
  {
   "cell_type": "code",
   "execution_count": 21,
   "metadata": {
    "collapsed": false,
    "deletable": false,
    "nbgrader": {
     "checksum": "ea78fb4567e08e5401b67e4d085856b2",
     "grade": true,
     "grade_id": "array2-check",
     "locked": true,
     "points": 1,
     "solution": false
    }
   },
   "outputs": [],
   "source": [
    "assert_equal(shape(y), (4,16))"
   ]
  },
  {
   "cell_type": "markdown",
   "metadata": {
    "deletable": false,
    "nbgrader": {
     "checksum": "d0bbc9f6e1e02dbbc95ec51cf7122c3b",
     "grade": false,
     "grade_id": "array3-desc",
     "locked": true,
     "solution": false
    }
   },
   "source": [
    "Get the following *slices* of `y`:\n",
    "\n",
    "* All the rows and the first three colums. Name it `sl1`.\n",
    "* All the colums and the first three rows. Name it `sl2`.\n",
    "* Third to sixth (included) columns and all the rows. Name it `sl3`.\n",
    "* The last three columns and all the rows. Name it `sl4`."
   ]
  },
  {
   "cell_type": "code",
   "execution_count": 22,
   "metadata": {
    "collapsed": false,
    "deletable": false,
    "nbgrader": {
     "checksum": "e1a3a50073b0902f287b4b0c38651fd3",
     "grade": false,
     "grade_id": "array3",
     "locked": false,
     "points": 1,
     "solution": true
    }
   },
   "outputs": [
    {
     "name": "stdout",
     "output_type": "stream",
     "text": [
      "[[ 0  1  2]\n",
      " [16 17 18]\n",
      " [32 33 34]\n",
      " [48 49 50]]\n",
      "[[ 0  1  2  3  4  5  6  7  8  9 10 11 12 13 14 15]\n",
      " [16 17 18 19 20 21 22 23 24 25 26 27 28 29 30 31]\n",
      " [32 33 34 35 36 37 38 39 40 41 42 43 44 45 46 47]]\n",
      "[[ 3  4  5  6]\n",
      " [19 20 21 22]\n",
      " [35 36 37 38]\n",
      " [51 52 53 54]]\n",
      "[[13 14 15]\n",
      " [29 30 31]\n",
      " [45 46 47]\n",
      " [61 62 63]]\n"
     ]
    }
   ],
   "source": [
    "sl1 = y[0:4]\n",
    "sl1 = sl1[:,0:3]\n",
    "\n",
    "sl2 = y[:,0:]\n",
    "sl2 = sl2[0:3]\n",
    "\n",
    "sl3 = y[:,3:7]\n",
    "\n",
    "sl4 = y[:,-3:]\n",
    "\n",
    "print sl1\n",
    "print sl2\n",
    "print sl3\n",
    "print sl4"
   ]
  },
  {
   "cell_type": "code",
   "execution_count": 23,
   "metadata": {
    "collapsed": false,
    "deletable": false,
    "nbgrader": {
     "checksum": "1badf276fe91c6c14eb9338c19b73e0b",
     "grade": true,
     "grade_id": "array3-test",
     "locked": true,
     "points": 1,
     "solution": false
    }
   },
   "outputs": [],
   "source": [
    "assert_equal(sl1,[[0,1,2],[16,17,18],[32,33,34],[48,49,50]])\n",
    "assert_equal(sl2,[[0,1,2,3,4,5,6,7,8,9,10,11,12,13,14,15],[16,17,18,19,20,21,22,23,24,25,26,27,28,29,30,31],[32,33,34,35,36,37,38,39,40,41,42,43,44,45,46,47]])\n",
    "assert_equal(sl3,[[3,4,5,6],[19,20,21,22],[35,36,37,38],[51,52,53,54]])\n",
    "assert_equal(sl4,[[13,14,15],[29,30,31],[45,46,47],[61,62,63]])"
   ]
  },
  {
   "cell_type": "markdown",
   "metadata": {
    "deletable": false,
    "nbgrader": {
     "checksum": "33b9e1780c0dd4ffea9751aebf84025e",
     "grade": false,
     "grade_id": "array4-desc",
     "locked": true,
     "solution": false
    }
   },
   "source": [
    "Now reshape the array, as if you wanted to feed it to a fortran routine. Call it `z`."
   ]
  },
  {
   "cell_type": "code",
   "execution_count": 24,
   "metadata": {
    "collapsed": false,
    "deletable": false,
    "nbgrader": {
     "checksum": "a1d8e18c4b52c6ffbd79742b57141ec0",
     "grade": true,
     "grade_id": "array4",
     "locked": false,
     "points": 1,
     "solution": true
    }
   },
   "outputs": [
    {
     "name": "stdout",
     "output_type": "stream",
     "text": [
      "[[ 0  4  8 12 16 20 24 28 32 36 40 44 48 52 56 60]\n",
      " [ 1  5  9 13 17 21 25 29 33 37 41 45 49 53 57 61]\n",
      " [ 2  6 10 14 18 22 26 30 34 38 42 46 50 54 58 62]\n",
      " [ 3  7 11 15 19 23 27 31 35 39 43 47 51 55 59 63]]\n",
      "[[ 0  1  2  3  4  5  6  7  8  9 10 11 12 13 14 15]\n",
      " [16 17 18 19 20 21 22 23 24 25 26 27 28 29 30 31]\n",
      " [32 33 34 35 36 37 38 39 40 41 42 43 44 45 46 47]\n",
      " [48 49 50 51 52 53 54 55 56 57 58 59 60 61 62 63]]\n"
     ]
    }
   ],
   "source": [
    "z = np.reshape(x,(4,16), order = 'F')\n",
    "\n",
    "print z\n",
    "print y"
   ]
  },
  {
   "cell_type": "markdown",
   "metadata": {
    "deletable": false,
    "nbgrader": {
     "checksum": "89ccb4f60ec33efae83377292eb3a8db",
     "grade": false,
     "grade_id": "array5-desc",
     "locked": true,
     "points": 1,
     "solution": false
    }
   },
   "source": [
    "Comment on the result, what has changed with respect to `y`? "
   ]
  },
  {
   "cell_type": "markdown",
   "metadata": {
    "deletable": false,
    "nbgrader": {
     "checksum": "5e50e6c6ca7f382d3ce2e2be28ba537a",
     "grade": true,
     "grade_id": "array5",
     "locked": false,
     "points": 1,
     "solution": true
    }
   },
   "source": [
    "YOUR ANSWER HERE"
   ]
  },
  {
   "cell_type": "markdown",
   "metadata": {
    "deletable": false,
    "nbgrader": {
     "checksum": "1829db8f96489200d1dc93edcb14b265",
     "grade": false,
     "grade_id": "array6-desc",
     "locked": true,
     "solution": false
    }
   },
   "source": [
    "Set the fourth element of `x` to 666666, and print `x`, `y`, `z`. Comment on the result"
   ]
  },
  {
   "cell_type": "code",
   "execution_count": 25,
   "metadata": {
    "collapsed": false,
    "deletable": false,
    "nbgrader": {
     "checksum": "87726e086d7a7a73c1b8655540f7e852",
     "grade": true,
     "grade_id": "array6-1",
     "locked": false,
     "points": 1,
     "solution": true
    }
   },
   "outputs": [
    {
     "name": "stdout",
     "output_type": "stream",
     "text": [
      "[     0      1      2 666666      4      5      6      7      8      9\n",
      "     10     11     12     13     14     15     16     17     18     19\n",
      "     20     21     22     23     24     25     26     27     28     29\n",
      "     30     31     32     33     34     35     36     37     38     39\n",
      "     40     41     42     43     44     45     46     47     48     49\n",
      "     50     51     52     53     54     55     56     57     58     59\n",
      "     60     61     62     63]\n",
      "[[     0      1      2 666666      4      5      6      7      8      9\n",
      "      10     11     12     13     14     15]\n",
      " [    16     17     18     19     20     21     22     23     24     25\n",
      "      26     27     28     29     30     31]\n",
      " [    32     33     34     35     36     37     38     39     40     41\n",
      "      42     43     44     45     46     47]\n",
      " [    48     49     50     51     52     53     54     55     56     57\n",
      "      58     59     60     61     62     63]]\n",
      "[[     0      4      8     12     16     20     24     28     32     36\n",
      "      40     44     48     52     56     60]\n",
      " [     1      5      9     13     17     21     25     29     33     37\n",
      "      41     45     49     53     57     61]\n",
      " [     2      6     10     14     18     22     26     30     34     38\n",
      "      42     46     50     54     58     62]\n",
      " [666666      7     11     15     19     23     27     31     35     39\n",
      "      43     47     51     55     59     63]]\n"
     ]
    }
   ],
   "source": [
    "x[3] = 666666\n",
    "print x\n",
    "print y\n",
    "print z\n"
   ]
  },
  {
   "cell_type": "markdown",
   "metadata": {
    "deletable": false,
    "nbgrader": {
     "checksum": "847fd2ffa5fc2351fcfd401fb9c1421b",
     "grade": true,
     "grade_id": "array6-2",
     "locked": false,
     "points": 3,
     "solution": true
    }
   },
   "source": [
    "YOUR ANSWER HERE"
   ]
  },
  {
   "cell_type": "markdown",
   "metadata": {
    "deletable": false,
    "nbgrader": {
     "checksum": "9873725533c9c62aa22dc841f6ff3c04",
     "grade": false,
     "grade_id": "array7-1-desc",
     "locked": true,
     "solution": false
    }
   },
   "source": [
    "## Arrays and Matrices\n",
    "\n",
    "Define 2 arrays, `A` of dimensions (2,3) and `B` of dimension (3,4).\n",
    "\n",
    "* Perform the operation `C = A.dot(B)`. Comment the result, or the error you get."
   ]
  },
  {
   "cell_type": "code",
   "execution_count": 26,
   "metadata": {
    "collapsed": false,
    "deletable": false,
    "nbgrader": {
     "checksum": "15bc5991a98ef17ada24a81a38ccf098",
     "grade": false,
     "grade_id": "array7-0",
     "locked": false,
     "solution": true
    }
   },
   "outputs": [
    {
     "name": "stdout",
     "output_type": "stream",
     "text": [
      "[[1 2 3]\n",
      " [2 4 6]]\n",
      "[[ 1  2  3  4]\n",
      " [ 2  4  6  8]\n",
      " [ 3  6  9 12]]\n",
      "[[ 14  28  42  56]\n",
      " [ 28  56  84 112]]\n"
     ]
    }
   ],
   "source": [
    "A = np.array([[i*j for i in range(1,4)] for j in range(1,3)])\n",
    "B = np.array([[i*j for i in range(1,5)] for j in range(1,4)])\n",
    "C = A.dot(B)\n",
    "print A\n",
    "print B\n",
    "print C"
   ]
  },
  {
   "cell_type": "code",
   "execution_count": 27,
   "metadata": {
    "collapsed": false,
    "deletable": false,
    "nbgrader": {
     "checksum": "e004ee40f8603bf8cbf63b77072489b6",
     "grade": true,
     "grade_id": "array7-0-test",
     "locked": true,
     "points": 1,
     "solution": false
    }
   },
   "outputs": [],
   "source": [
    "assert_equal(A.shape,(2,3))\n",
    "assert_equal(B.shape,(3,4))\n",
    "assert_equal(C.shape,(2,4))\n",
    "expected = sum(A[1,:]*B[:,2])\n",
    "assert_equal(C[1,2],expected)"
   ]
  },
  {
   "cell_type": "markdown",
   "metadata": {
    "deletable": false,
    "nbgrader": {
     "checksum": "0fffe3b48b380095d30a35596935b2b2",
     "grade": true,
     "grade_id": "array7-1",
     "locked": false,
     "points": 1,
     "solution": true
    }
   },
   "source": [
    "YOUR ANSWER HERE"
   ]
  },
  {
   "cell_type": "markdown",
   "metadata": {
    "deletable": false,
    "nbgrader": {
     "checksum": "8daa41c2ab4249f4c3a24697a3834cfe",
     "grade": false,
     "grade_id": "array7-2-desc",
     "locked": true,
     "solution": false
    }
   },
   "source": [
    "* Perform the operation `C = A*(B)`. Comment the result, or the error you get."
   ]
  },
  {
   "cell_type": "code",
   "execution_count": 28,
   "metadata": {
    "collapsed": false
   },
   "outputs": [
    {
     "ename": "ValueError",
     "evalue": "operands could not be broadcast together with shapes (2,3) (3,4) ",
     "output_type": "error",
     "traceback": [
      "\u001b[0;31m---------------------------------------------------------------------------\u001b[0m",
      "\u001b[0;31mValueError\u001b[0m                                Traceback (most recent call last)",
      "\u001b[0;32m<ipython-input-28-6cd267b426e0>\u001b[0m in \u001b[0;36m<module>\u001b[0;34m()\u001b[0m\n\u001b[0;32m----> 1\u001b[0;31m \u001b[0mC\u001b[0m \u001b[0;34m=\u001b[0m \u001b[0mA\u001b[0m\u001b[0;34m*\u001b[0m\u001b[0mB\u001b[0m\u001b[0;34m\u001b[0m\u001b[0m\n\u001b[0m",
      "\u001b[0;31mValueError\u001b[0m: operands could not be broadcast together with shapes (2,3) (3,4) "
     ]
    }
   ],
   "source": [
    "C = A*B"
   ]
  },
  {
   "cell_type": "markdown",
   "metadata": {
    "deletable": false,
    "nbgrader": {
     "checksum": "47db906d12d079403949954c4f79c316",
     "grade": true,
     "grade_id": "array7-2",
     "locked": false,
     "points": 1,
     "solution": true
    }
   },
   "source": [
    "YOUR ANSWER HERE"
   ]
  },
  {
   "cell_type": "markdown",
   "metadata": {},
   "source": [
    " * Convert A and B, from arrays to matrices and perform `A*B`. Comment the result."
   ]
  },
  {
   "cell_type": "code",
   "execution_count": 29,
   "metadata": {
    "collapsed": false,
    "deletable": false,
    "nbgrader": {
     "checksum": "b81bf715c9c1d4ccbc8ea94abe5e7e0b",
     "grade": false,
     "grade_id": "array7-3",
     "locked": false,
     "points": 1,
     "solution": true
    }
   },
   "outputs": [
    {
     "name": "stdout",
     "output_type": "stream",
     "text": [
      "[[ 14  28  42  56]\n",
      " [ 28  56  84 112]]\n",
      "<class 'numpy.matrixlib.defmatrix.matrix'>\n"
     ]
    }
   ],
   "source": [
    "A = np.asmatrix(A)\n",
    "B = np.asmatrix(B)\n",
    "C = A*B\n",
    "print C\n",
    "print type(C)\n",
    "\n"
   ]
  },
  {
   "cell_type": "code",
   "execution_count": null,
   "metadata": {
    "collapsed": false,
    "deletable": false,
    "nbgrader": {
     "checksum": "30fb1a393cb4628e67361886ad51a242",
     "grade": true,
     "grade_id": "array7-3-test",
     "locked": true,
     "points": 1,
     "solution": false
    }
   },
   "outputs": [],
   "source": [
    "assert_equal(type(A),numpy.matrixlib.defmatrix.matrix)\n",
    "assert_equal(type(B),numpy.matrixlib.defmatrix.matrix)\n",
    "assert_equal(type(C),numpy.matrixlib.defmatrix.matrix)\n",
    "assert_equal(A.shape,(2,3))\n",
    "assert_equal(B.shape,(3,4))\n",
    "assert_equal(C.shape,(2,4))\n",
    "expected = sum(A[1,:]*B[:,2])\n",
    "assert_equal(C[1,2],expected)\n"
   ]
  },
  {
   "cell_type": "markdown",
   "metadata": {
    "deletable": false,
    "nbgrader": {
     "checksum": "08676ca6235af8c49ec80aa4a66a590e",
     "grade": true,
     "grade_id": "array7-3-1",
     "locked": false,
     "points": 1,
     "solution": true
    }
   },
   "source": [
    "YOUR ANSWER HERE"
   ]
  },
  {
   "cell_type": "markdown",
   "metadata": {
    "deletable": false,
    "nbgrader": {
     "checksum": "8b8d0c8c57aae75207e34b8fb2000846",
     "grade": false,
     "grade_id": "polynomials-desc",
     "locked": true,
     "solution": false
    }
   },
   "source": [
    "# Playing with polynomials\n",
    "\n",
    "The polynomial `(1-x)^6` can be expanded to::\n",
    "     \n",
    "     x^6 - 6*x^5 + 15*x^4 - 20*x^3 + 15*x^2 - 6*x + 1\n",
    "\n",
    "   The two forms above are equivalent from a mathematical point of\n",
    "   view, but may yield different results in a computer machine.\n",
    "\n",
    "   Compute and plot the values of this polynomial, using each of the\n",
    "   two forms, for 101 equally spaced points in the interval\n",
    "   `[0.995,1.005]`, i.e., with a spacing of 0.0001 (use linspace).\n",
    "   \n",
    "   Can you explain this behavior?\n"
   ]
  },
  {
   "cell_type": "code",
   "execution_count": 30,
   "metadata": {
    "collapsed": false,
    "deletable": false,
    "nbgrader": {
     "checksum": "4cdc4cafeca5d880ebd261209ed618a3",
     "grade": true,
     "grade_id": "polynomials-1",
     "locked": false,
     "points": 2,
     "solution": true
    },
    "scrolled": true
   },
   "outputs": [
    {
     "data": {
      "image/png": "[encoded data removed]",
      "text/plain": [
       "<matplotlib.figure.Figure at 0x1061fcbd0>"
      ]
     },
     "metadata": {},
     "output_type": "display_data"
    }
   ],
   "source": [
    "pol = lambda x: (1 - x)**6\n",
    "pol_expanded = lambda x: x**6 - 6*x**5 + 15*x**4 - 20*x**3 + 15*x**2 - 6*x + 1\n",
    "\n",
    "x = np.linspace(0.995,1.005,(1.005-0.995)/0.0001)\n",
    "\n",
    "pol_value = pol(x)\n",
    "pol_exp_value = pol_expanded(x)\n",
    "\n",
    "plt.plot(x,pol_value, color = \"green\")\n",
    "plt.plot(x,pol_exp_value, color = \"blue\")\n",
    "plt.show()\n",
    "\n"
   ]
  },
  {
   "cell_type": "markdown",
   "metadata": {
    "deletable": false,
    "nbgrader": {
     "checksum": "6756da172811699667da7cf0fe44b1f0",
     "grade": true,
     "grade_id": "polynomials-2",
     "locked": false,
     "points": 1,
     "solution": true
    }
   },
   "source": [
    "YOUR ANSWER HERE"
   ]
  },
  {
   "cell_type": "markdown",
   "metadata": {
    "deletable": false,
    "nbgrader": {
     "checksum": "0a479e894bbf31104f4ec5fd00345c57",
     "grade": false,
     "grade_id": "lagrange-desc",
     "locked": true,
     "solution": false
    }
   },
   "source": [
    "**Playing with interpolation in python**\n",
    "\n",
    "1. Given a set of $n+1$ points $x_i$ as input (either a list of floats, or a numpy array of floats), construct a function `lagrange_basis(xi,i,x)` that returns the $i$-th Lagrange\n",
    "polynomial associated to $x_i$, evaluated at $x$. The $i$-th Lagrange polynomial is defined as polynomial of degree $n$ such that $l_i(x_j) = \\delta_{ij}$, where $\\delta$ is one if $i == j$ and zero otherwise.\n",
    "   \n",
    "Recall the mathematical definition of the $l_i(x)$ polynomials:\n",
    "\n",
    "$$\n",
    "l_i(x) := \\prod_{j=0, j\\neq i}^{n} \\frac{x-x_j}{x_i-x_j}\n",
    "$$\n"
   ]
  },
  {
   "cell_type": "code",
   "execution_count": 39,
   "metadata": {
    "collapsed": false,
    "deletable": false,
    "nbgrader": {
     "checksum": "af917ca6cdf69420a0d0f725c3fb34ab",
     "grade": false,
     "grade_id": "lagrange",
     "locked": false,
     "solution": true
    }
   },
   "outputs": [
    {
     "name": "stdout",
     "output_type": "stream",
     "text": [
      "[ 0.    0.75  1.    0.75 -0.  ]\n"
     ]
    }
   ],
   "source": [
    "def lagrange_basis(xi, i, x):   \n",
    "    assert(i < len(xi) and i >= 0)\n",
    "    li = np.product([(x - xi[j])/(xi[i]-xi[j]) for j in range(len(xi)) if j!=i], axis = 0)\n",
    "    return li\n",
    "\n",
    "x = linspace(0,1,5)\n",
    "d = 3\n",
    "xi = linspace(0,1,d)\n",
    "\n",
    "print lagrange_basis(xi,1,x)"
   ]
  },
  {
   "cell_type": "code",
   "execution_count": 40,
   "metadata": {
    "collapsed": false,
    "deletable": false,
    "nbgrader": {
     "checksum": "73158993cb16085f319edae1418cccbb",
     "grade": true,
     "grade_id": "lagrange-check",
     "locked": true,
     "points": 4,
     "solution": false
    }
   },
   "outputs": [],
   "source": [
    "x = linspace(0,1,5)\n",
    "d = 3\n",
    "xi = linspace(0,1,d)\n",
    "\n",
    "assert_equal(list(lagrange_basis(xi, 0, x)),[1.0, 0.375, -0.0, -0.125, 0.0])\n",
    "assert_equal(list(lagrange_basis(xi, 1, x)),[0.0, 0.75, 1.0, 0.75, -0.0])\n",
    "assert_equal(list(lagrange_basis(xi, 2, x)),[-0.0, -0.125, 0.0, 0.375, 1.0])\n",
    "\n",
    "assert_raises(AssertionError, lagrange_basis, xi, -1, x)\n",
    "assert_raises(AssertionError, lagrange_basis, xi, 10, x)"
   ]
  },
  {
   "cell_type": "markdown",
   "metadata": {
    "deletable": false,
    "nbgrader": {
     "checksum": "450949a960185bfab0adb1e2780677b5",
     "grade": false,
     "grade_id": "lagrange2-desc",
     "locked": true,
     "solution": false
    }
   },
   "source": [
    "Construct the function `lagrange_interpolation(xi,g)` that, given the set of interpolation points `xi` and a function `g`, it returns **another function** that when evaluated at **x** returns the Lagrange interpolation polynomial of `g` defined as \n",
    "\n",
    "$$\n",
    " \\mathcal{L} g(x) := \\sum_{i=0}^n g(x_i) l_i(x)\n",
    "$$\n",
    "\n",
    "You could use this function as follows::\n",
    "\n",
    "    Lg = lagrange_interpolation(xi, g)\n",
    "    xi = linspace(0,1,101)\n",
    "    plot(x, g(x))\n",
    "    plot(x, Lg(x))\n",
    "    plot(xi, g(xi), 'or')"
   ]
  },
  {
   "cell_type": "code",
   "execution_count": 45,
   "metadata": {
    "collapsed": false,
    "deletable": false,
    "nbgrader": {
     "checksum": "72546294ade57aa55dd327b7a989660e",
     "grade": false,
     "grade_id": "lagrange2",
     "locked": false,
     "solution": true
    }
   },
   "outputs": [],
   "source": [
    "def lagrange_interpolation(xi,g):\n",
    "    def L_g(x,xi,g):\n",
    "        summ = zeros(x.shape)\n",
    "        for i in range(len(xi)):\n",
    "            summ += g(xi[i])*lagrange_basis(xi, i, x)\n",
    "        return summ\n",
    "    return lambda x: L_g(x,xi,g)\n",
    "    \n"
   ]
  },
  {
   "cell_type": "code",
   "execution_count": 46,
   "metadata": {
    "collapsed": false,
    "deletable": false,
    "nbgrader": {
     "checksum": "40ee1bebe6d691744dccbef3c40fe196",
     "grade": true,
     "grade_id": "lagrange2-check",
     "locked": true,
     "points": 4,
     "solution": false
    }
   },
   "outputs": [],
   "source": [
    "# Check for polynomials. This should be **exact**\n",
    "g = lambda x: x**3+x**2\n",
    "\n",
    "xi = linspace(0,1,4)\n",
    "Lg = lagrange_interpolation(xi, g)\n",
    "\n",
    "x = linspace(0,1,1001)\n",
    "\n",
    "assert p_norm(g(x) - Lg(x),float('inf')) < 1e-15, 'This should be zero...'"
   ]
  },
  {
   "cell_type": "code",
   "execution_count": null,
   "metadata": {
    "collapsed": true
   },
   "outputs": [],
   "source": []
  }
 ],
 "metadata": {
  "kernelspec": {
   "display_name": "Python 2",
   "language": "python",
   "name": "python2"
  },
  "language_info": {
   "codemirror_mode": {
    "name": "ipython",
    "version": 2
   },
   "file_extension": ".py",
   "mimetype": "text/x-python",
   "name": "python",
   "nbconvert_exporter": "python",
   "pygments_lexer": "ipython2",
   "version": "2.7.11"
  }
 },
 "nbformat": 4,
 "nbformat_minor": 0
}
